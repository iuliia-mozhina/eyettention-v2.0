{
  "cells": [
    {
      "cell_type": "markdown",
      "id": "nuclear-dream",
      "metadata": {
        "id": "nuclear-dream"
      },
      "source": [
        "# Eyettention"
      ]
    },
    {
      "cell_type": "code",
      "execution_count": null,
      "id": "0978c758-ea14-4df4-97d0-6e0c1ed18428",
      "metadata": {
        "id": "0978c758-ea14-4df4-97d0-6e0c1ed18428"
      },
      "outputs": [],
      "source": [
        "import os\n",
        "import numpy as np\n",
        "from sklearn.preprocessing import LabelEncoder\n",
        "import model\n",
        "import torch\n",
        "from torch.utils import model_zoo\n",
        "import pandas as pd\n",
        "from utils import *\n",
        "from sklearn.model_selection import StratifiedKFold, KFold\n",
        "import torch\n",
        "import torch.nn as nn\n",
        "from torch.utils.data import DataLoader\n",
        "from torch.optim import Adam, RMSprop\n",
        "from transformers import BertTokenizerFast\n",
        "from model import Eyettention_readerID\n",
        "from sklearn.preprocessing import LabelEncoder, OneHotEncoder\n",
        "from torch.nn.functional import cross_entropy, softmax\n",
        "from collections import deque, Counter\n",
        "import pickle\n",
        "import json\n",
        "import matplotlib.pyplot as plt\n",
        "import argparse\n",
        "import random\n",
        "from scasim import *\n",
        "import ast"
      ]
    },
    {
      "cell_type": "code",
      "execution_count": null,
      "id": "c8dfb0f8-8775-4609-b75c-6052916ca9c0",
      "metadata": {
        "id": "c8dfb0f8-8775-4609-b75c-6052916ca9c0"
      },
      "outputs": [],
      "source": [
        "os.environ[\"TOKENIZERS_PARALLELISM\"] = \"false\"\n",
        "save_data_folder = \"./drive/MyDrive/results/celer/Eyettention_Reader/emb_size_16\"\n",
        "#DEVICE = 'cuda'\n",
        "DEVICE = 'cpu'\n",
        "scanpath_gen_flag = True\n",
        "atten_type = \"local_g\""
      ]
    },
    {
      "cell_type": "code",
      "execution_count": null,
      "id": "4l7DoNdYwUn9",
      "metadata": {
        "colab": {
          "base_uri": "https://localhost:8080/"
        },
        "id": "4l7DoNdYwUn9",
        "outputId": "6544f350-f5e9-4221-dd55-02bd2d2eaa0a"
      },
      "outputs": [
        {
          "output_type": "stream",
          "name": "stdout",
          "text": [
            "Mounted at /content/drive\n"
          ]
        }
      ],
      "source": [
        "from google.colab import drive\n",
        "drive.mount('/content/drive')"
      ]
    },
    {
      "cell_type": "markdown",
      "id": "6e085041-7c16-44b4-9129-bf667f64c552",
      "metadata": {
        "id": "6e085041-7c16-44b4-9129-bf667f64c552"
      },
      "source": [
        "**Training loop**"
      ]
    },
    {
      "cell_type": "code",
      "execution_count": null,
      "id": "28WYhnrePEZj",
      "metadata": {
        "colab": {
          "base_uri": "https://localhost:8080/",
          "height": 1000,
          "referenced_widgets": [
            "2023940614b44e60a6527c97c2f4c0ff",
            "59555773a6e347d0ae7f53587fee406f",
            "2aae6b138b1b441e8b5a4642f2ed75f3",
            "d37b2bb56ab44ace9c095de05ad8071a",
            "84a8e1305db74c7b8e7803d08eb8bb4c",
            "3e190c04aa0a4e7896b3f4dfd4b65650",
            "8a14f9c652e045338eea89b1079c5167",
            "4e00aee1b17c4a49a9fc534a4217ad00",
            "b8d3a4edb841454fac79fa5ef8ac8e1e",
            "755b4c52f7ff4e24aa00e480c9fc2c05",
            "c9378fcef7a24808b9d52f2e3bd5750d",
            "7ada4e436f954502ac8cd78d5e64ab24",
            "12fa12ad9db44520a9a2da89cb9bd0e4",
            "ccdf56cee338450f9cfd587f611f716f",
            "d553423c5b9a4aef94909bd67f47d0c9",
            "3f8c9f1a633f4d56b40976f56242c6f9",
            "f109e8aeff34484d911606d74d0eed45",
            "16fc88f71bdd484698c35cdd78faef8f",
            "4f94a47b767a44a9b069003c06fd0b75",
            "533efc7474a74dedb2df680c5936f39a",
            "4daa84cd60aa4344841f6a1fe513c29c",
            "dc4d72a834d74f8aa40cf367501f8d03",
            "cd743c335a284f69bf213521d9689914",
            "698fe44baac447cabf29bcb0b1bf6a3f",
            "3e58b0903c234777b3983ab592036dd7",
            "6602f64846da4a33bba206abeb91cf45",
            "3b578b3fe81a4763a7d5680166b3cf61",
            "4f390062736a412b9e1405777aef5f88",
            "28b921efa9aa4a2bb1ef53b907a40383",
            "03b79e588be04f4a826b0ebf7a1922c3",
            "f487f1ab53c24663a98109e52d63ce3d",
            "0f771d891455487fbe28e14962a692eb",
            "3a303a2667cb40ad8864360e572b44bf",
            "5dc724c598804645a64763450f311a35",
            "bfe50dfffd2b49419f10a8cd6ee283a8",
            "b789fbc3c45a4c5592b3a882c86299f9",
            "cd3a629540954a758a33272c60ac5955",
            "3e174fafd1a44d3392eeefeb6df5516f",
            "d9c4f7072b6a41369abd2e439746d0f6",
            "65e8682e295b491a8b733a36979df8bc",
            "5a193b45a406483b9a481c53216b70bf",
            "cad0931542754e8b89f8b338b79bfbc1",
            "56872e7da7d4405a8bcb7c40d7645791",
            "42e37ac568514fa4925da92303946dfd",
            "e3faeeb107d24d4292674532cd91bcbc",
            "57344f377c3042fdb13f86a069b54bd5",
            "589c4610844a41baa6cc3c3188728593",
            "5d8373b012574efcb39664fec4658bed",
            "4c9c3b2309ec4920802a6f44a5416938",
            "3da377a592ab457f9a2601ca64cc331b",
            "d157a7f7079e43079a10db20b173a251",
            "9d27b1d3ba37446aa05d05bc7fcd250d",
            "35145b8ae75f4a258709f4c450b63dc3",
            "30604d6f37b84fec91fe31e4285035cf",
            "bcf73093d84a4c508a5656fe7e477f43"
          ]
        },
        "id": "28WYhnrePEZj",
        "outputId": "5a3cb6e7-ad47-47a0-c256-b5dfabc3e518"
      },
      "outputs": [
        {
          "output_type": "stream",
          "name": "stderr",
          "text": [
            "/usr/local/lib/python3.10/dist-packages/torch/__init__.py:747: UserWarning: torch.set_default_tensor_type() is deprecated as of PyTorch 2.1, please use torch.set_default_dtype() and torch.set_default_device() as alternatives. (Triggered internally at ../torch/csrc/tensor/python_tensor.cpp:431.)\n",
            "  _C._set_default_tensor_type(t)\n",
            "/content/utils.py:39: DtypeWarning: Columns (44) have mixed types. Specify dtype option on import or set low_memory=False.\n",
            "  eyemovement_df = pd.read_csv('drive/MyDrive/celer/sent_fix.tsv', delimiter='\\t')\n"
          ]
        },
        {
          "output_type": "stream",
          "name": "stdout",
          "text": [
            "Start evaluating on new sentences.\n"
          ]
        },
        {
          "output_type": "stream",
          "name": "stderr",
          "text": [
            "/usr/local/lib/python3.10/dist-packages/huggingface_hub/utils/_token.py:89: UserWarning: \n",
            "The secret `HF_TOKEN` does not exist in your Colab secrets.\n",
            "To authenticate with the Hugging Face Hub, create a token in your settings tab (https://huggingface.co/settings/tokens), set it as secret in your Google Colab and restart your session.\n",
            "You will be able to reuse this secret in all of your notebooks.\n",
            "Please note that authentication is recommended but still optional to access public models or datasets.\n",
            "  warnings.warn(\n"
          ]
        },
        {
          "output_type": "display_data",
          "data": {
            "text/plain": [
              "tokenizer_config.json:   0%|          | 0.00/49.0 [00:00<?, ?B/s]"
            ],
            "application/vnd.jupyter.widget-view+json": {
              "version_major": 2,
              "version_minor": 0,
              "model_id": "2023940614b44e60a6527c97c2f4c0ff"
            }
          },
          "metadata": {}
        },
        {
          "output_type": "display_data",
          "data": {
            "text/plain": [
              "vocab.txt:   0%|          | 0.00/213k [00:00<?, ?B/s]"
            ],
            "application/vnd.jupyter.widget-view+json": {
              "version_major": 2,
              "version_minor": 0,
              "model_id": "7ada4e436f954502ac8cd78d5e64ab24"
            }
          },
          "metadata": {}
        },
        {
          "output_type": "display_data",
          "data": {
            "text/plain": [
              "tokenizer.json:   0%|          | 0.00/436k [00:00<?, ?B/s]"
            ],
            "application/vnd.jupyter.widget-view+json": {
              "version_major": 2,
              "version_minor": 0,
              "model_id": "cd743c335a284f69bf213521d9689914"
            }
          },
          "metadata": {}
        },
        {
          "output_type": "stream",
          "name": "stderr",
          "text": [
            "/usr/local/lib/python3.10/dist-packages/huggingface_hub/file_download.py:1132: FutureWarning: `resume_download` is deprecated and will be removed in version 1.0.0. Downloads always resume when possible. If you want to force a new download, use `force_download=True`.\n",
            "  warnings.warn(\n"
          ]
        },
        {
          "output_type": "display_data",
          "data": {
            "text/plain": [
              "config.json:   0%|          | 0.00/570 [00:00<?, ?B/s]"
            ],
            "application/vnd.jupyter.widget-view+json": {
              "version_major": 2,
              "version_minor": 0,
              "model_id": "5dc724c598804645a64763450f311a35"
            }
          },
          "metadata": {}
        },
        {
          "output_type": "stream",
          "name": "stderr",
          "text": [
            "100%|██████████| 3491/3491 [15:38<00:00,  3.72it/s]\n",
            "100%|██████████| 873/873 [03:56<00:00,  3.70it/s]\n",
            "100%|██████████| 1092/1092 [04:52<00:00,  3.74it/s]\n",
            "/usr/local/lib/python3.10/dist-packages/huggingface_hub/file_download.py:1132: FutureWarning: `resume_download` is deprecated and will be removed in version 1.0.0. Downloads always resume when possible. If you want to force a new download, use `force_download=True`.\n",
            "  warnings.warn(\n"
          ]
        },
        {
          "output_type": "stream",
          "name": "stdout",
          "text": [
            "keeping Bert with pre-trained weights\n"
          ]
        },
        {
          "output_type": "display_data",
          "data": {
            "text/plain": [
              "model.safetensors:   0%|          | 0.00/436M [00:00<?, ?B/s]"
            ],
            "application/vnd.jupyter.widget-view+json": {
              "version_major": 2,
              "version_minor": 0,
              "model_id": "e3faeeb107d24d4292674532cd91bcbc"
            }
          },
          "metadata": {}
        },
        {
          "output_type": "stream",
          "name": "stdout",
          "text": [
            "######### Eyettention 2.0 model evaluation ##########\n",
            "MSE for durations 0.09115298054712184\n",
            "MSE for landing positions 0.03513418875900243\n"
          ]
        },
        {
          "output_type": "stream",
          "name": "stderr",
          "text": [
            "/content/utils.py:305: UserWarning: To copy construct from a tensor, it is recommended to use sourceTensor.clone().detach() or sourceTensor.clone().detach().requires_grad_(True), rather than torch.tensor(sourceTensor).\n",
            "  item = torch.tensor(item)\n"
          ]
        },
        {
          "output_type": "stream",
          "name": "stdout",
          "text": [
            "######### Eyettention 2.0 model evaluation ##########\n",
            "MSE for durations 0.1774871715433619\n",
            "MSE for landing positions 0.038234686753639835\n"
          ]
        },
        {
          "output_type": "stream",
          "name": "stderr",
          "text": [
            "/content/utils.py:305: UserWarning: To copy construct from a tensor, it is recommended to use sourceTensor.clone().detach() or sourceTensor.clone().detach().requires_grad_(True), rather than torch.tensor(sourceTensor).\n",
            "  item = torch.tensor(item)\n",
            "/content/scasim.py:101: DtypeWarning: Columns (44) have mixed types. Specify dtype option on import or set low_memory=False.\n",
            "  eyemovement_df = pd.read_csv('drive/MyDrive/celer/sent_fix.tsv', delimiter='\\t')  # TODO ././Data/celer/\n"
          ]
        },
        {
          "output_type": "stream",
          "name": "stdout",
          "text": [
            "Mean scasim dnn 1514.1363636363637\n",
            "Mean scasim human 1850.409090909091\n",
            "Mean central scasim dnn 1140.8636363636363\n",
            "Mean central scasim human 1197.590909090909\n",
            "######### Eyettention 2.0 model evaluation ##########\n",
            "MSE for durations 0.07923000944720116\n",
            "MSE for landing positions 0.030147084691634518\n"
          ]
        },
        {
          "output_type": "stream",
          "name": "stderr",
          "text": [
            "/content/utils.py:305: UserWarning: To copy construct from a tensor, it is recommended to use sourceTensor.clone().detach() or sourceTensor.clone().detach().requires_grad_(True), rather than torch.tensor(sourceTensor).\n",
            "  item = torch.tensor(item)\n",
            "/content/scasim.py:101: DtypeWarning: Columns (44) have mixed types. Specify dtype option on import or set low_memory=False.\n",
            "  eyemovement_df = pd.read_csv('drive/MyDrive/celer/sent_fix.tsv', delimiter='\\t')  # TODO ././Data/celer/\n"
          ]
        },
        {
          "output_type": "stream",
          "name": "stdout",
          "text": [
            "Mean scasim dnn 2653.55078125\n",
            "Mean scasim human 2815.90625\n",
            "Mean central scasim dnn 1955.3046875\n",
            "Mean central scasim human 2157.65234375\n",
            "######### Eyettention 2.0 model evaluation ##########\n",
            "MSE for durations 0.12322506138661993\n",
            "MSE for landing positions 0.03576537385742995\n"
          ]
        },
        {
          "output_type": "stream",
          "name": "stderr",
          "text": [
            "/content/utils.py:305: UserWarning: To copy construct from a tensor, it is recommended to use sourceTensor.clone().detach() or sourceTensor.clone().detach().requires_grad_(True), rather than torch.tensor(sourceTensor).\n",
            "  item = torch.tensor(item)\n",
            "/content/scasim.py:101: DtypeWarning: Columns (44) have mixed types. Specify dtype option on import or set low_memory=False.\n",
            "  eyemovement_df = pd.read_csv('drive/MyDrive/celer/sent_fix.tsv', delimiter='\\t')  # TODO ././Data/celer/\n"
          ]
        },
        {
          "output_type": "stream",
          "name": "stdout",
          "text": [
            "Mean scasim dnn 3401.03125\n",
            "Mean scasim human 5990.359375\n",
            "Mean central scasim dnn 2698.203125\n",
            "Mean central scasim human 2471.47265625\n",
            "######### Eyettention 2.0 model evaluation ##########\n",
            "MSE for durations 0.0697626854007467\n",
            "MSE for landing positions 0.05520308736913648\n"
          ]
        },
        {
          "output_type": "stream",
          "name": "stderr",
          "text": [
            "/content/utils.py:305: UserWarning: To copy construct from a tensor, it is recommended to use sourceTensor.clone().detach() or sourceTensor.clone().detach().requires_grad_(True), rather than torch.tensor(sourceTensor).\n",
            "  item = torch.tensor(item)\n",
            "/content/scasim.py:101: DtypeWarning: Columns (44) have mixed types. Specify dtype option on import or set low_memory=False.\n",
            "  eyemovement_df = pd.read_csv('drive/MyDrive/celer/sent_fix.tsv', delimiter='\\t')  # TODO ././Data/celer/\n"
          ]
        },
        {
          "output_type": "stream",
          "name": "stdout",
          "text": [
            "Mean scasim dnn 2349.078125\n",
            "Mean scasim human 2347.6875\n",
            "Mean central scasim dnn 2074.16796875\n",
            "Mean central scasim human 1461.35546875\n",
            "######### Eyettention 2.0 model evaluation ##########\n",
            "MSE for durations 0.07029057499676128\n",
            "MSE for landing positions 0.0382072534694089\n"
          ]
        },
        {
          "output_type": "stream",
          "name": "stderr",
          "text": [
            "/content/utils.py:305: UserWarning: To copy construct from a tensor, it is recommended to use sourceTensor.clone().detach() or sourceTensor.clone().detach().requires_grad_(True), rather than torch.tensor(sourceTensor).\n",
            "  item = torch.tensor(item)\n",
            "/content/scasim.py:101: DtypeWarning: Columns (44) have mixed types. Specify dtype option on import or set low_memory=False.\n",
            "  eyemovement_df = pd.read_csv('drive/MyDrive/celer/sent_fix.tsv', delimiter='\\t')  # TODO ././Data/celer/\n"
          ]
        },
        {
          "output_type": "stream",
          "name": "stdout",
          "text": [
            "Mean scasim dnn 1993.4183673469388\n",
            "Mean scasim human 1862.3163265306123\n",
            "Mean central scasim dnn 1640.3469387755101\n",
            "Mean central scasim human 1602.4489795918366\n",
            "######### Eyettention 2.0 model evaluation ##########\n",
            "MSE for durations 0.07085361331837703\n",
            "MSE for landing positions 0.05078474484889739\n"
          ]
        },
        {
          "output_type": "stream",
          "name": "stderr",
          "text": [
            "/content/utils.py:305: UserWarning: To copy construct from a tensor, it is recommended to use sourceTensor.clone().detach() or sourceTensor.clone().detach().requires_grad_(True), rather than torch.tensor(sourceTensor).\n",
            "  item = torch.tensor(item)\n"
          ]
        },
        {
          "output_type": "stream",
          "name": "stdout",
          "text": [
            "######### Eyettention 2.0 model evaluation ##########\n",
            "MSE for durations 0.06480900563707828\n",
            "MSE for landing positions 0.04415840216061491\n"
          ]
        },
        {
          "output_type": "stream",
          "name": "stderr",
          "text": [
            "/content/utils.py:305: UserWarning: To copy construct from a tensor, it is recommended to use sourceTensor.clone().detach() or sourceTensor.clone().detach().requires_grad_(True), rather than torch.tensor(sourceTensor).\n",
            "  item = torch.tensor(item)\n"
          ]
        },
        {
          "output_type": "stream",
          "name": "stdout",
          "text": [
            "Test likelihood is -2.1639915187429746\n",
            "Standard error for NLL 0.013067564736634698\n",
            "Test MSE for durations is 0.09472446041611836\n",
            "Standard error for MSE dur 0.011616158261236197\n",
            "Test MSE for landing positions is 0.0408002173008198\n",
            "Standard error for MSE land pos 0.0013851919628391838\n",
            "Central Scasim dnn 2148.804054054054\n",
            "Standard error for Central scasim DNN 53.45186352153838\n",
            "Central Scasim human 1962.331081081081\n",
            "Standard error for Central scasim human 47.81235518634196\n",
            "Scasim dnn 2680.1835585585586\n",
            "Standard error for scasim dnn 58.348424091968894\n",
            "Scasim human 3466.9234234234236\n",
            "Standard error for scasim human 87.1235208564518\n"
          ]
        },
        {
          "output_type": "stream",
          "name": "stderr",
          "text": [
            "100%|██████████| 3492/3492 [15:49<00:00,  3.68it/s]\n",
            "100%|██████████| 873/873 [03:57<00:00,  3.68it/s]\n",
            "100%|██████████| 1091/1091 [04:53<00:00,  3.71it/s]\n",
            "/usr/local/lib/python3.10/dist-packages/huggingface_hub/file_download.py:1132: FutureWarning: `resume_download` is deprecated and will be removed in version 1.0.0. Downloads always resume when possible. If you want to force a new download, use `force_download=True`.\n",
            "  warnings.warn(\n"
          ]
        },
        {
          "output_type": "stream",
          "name": "stdout",
          "text": [
            "keeping Bert with pre-trained weights\n",
            "######### Eyettention 2.0 model evaluation ##########\n",
            "MSE for durations 0.06598932332053664\n",
            "MSE for landing positions 0.0408159433536639\n"
          ]
        },
        {
          "output_type": "stream",
          "name": "stderr",
          "text": [
            "/content/utils.py:305: UserWarning: To copy construct from a tensor, it is recommended to use sourceTensor.clone().detach() or sourceTensor.clone().detach().requires_grad_(True), rather than torch.tensor(sourceTensor).\n",
            "  item = torch.tensor(item)\n"
          ]
        },
        {
          "output_type": "stream",
          "name": "stdout",
          "text": [
            "######### Eyettention 2.0 model evaluation ##########\n",
            "MSE for durations 0.06343910185842105\n",
            "MSE for landing positions 0.0626410383615621\n"
          ]
        },
        {
          "output_type": "stream",
          "name": "stderr",
          "text": [
            "/content/utils.py:305: UserWarning: To copy construct from a tensor, it is recommended to use sourceTensor.clone().detach() or sourceTensor.clone().detach().requires_grad_(True), rather than torch.tensor(sourceTensor).\n",
            "  item = torch.tensor(item)\n",
            "/content/scasim.py:101: DtypeWarning: Columns (44) have mixed types. Specify dtype option on import or set low_memory=False.\n",
            "  eyemovement_df = pd.read_csv('drive/MyDrive/celer/sent_fix.tsv', delimiter='\\t')  # TODO ././Data/celer/\n"
          ]
        },
        {
          "output_type": "stream",
          "name": "stdout",
          "text": [
            "Mean scasim dnn 1723.0645161290322\n",
            "Mean scasim human 1870.0\n",
            "Mean central scasim dnn 1333.1612903225807\n",
            "Mean central scasim human 1567.1612903225807\n",
            "######### Eyettention 2.0 model evaluation ##########\n",
            "MSE for durations 0.07410683774136828\n",
            "MSE for landing positions 0.029210966516984627\n"
          ]
        },
        {
          "output_type": "stream",
          "name": "stderr",
          "text": [
            "/content/utils.py:305: UserWarning: To copy construct from a tensor, it is recommended to use sourceTensor.clone().detach() or sourceTensor.clone().detach().requires_grad_(True), rather than torch.tensor(sourceTensor).\n",
            "  item = torch.tensor(item)\n",
            "/content/scasim.py:101: DtypeWarning: Columns (44) have mixed types. Specify dtype option on import or set low_memory=False.\n",
            "  eyemovement_df = pd.read_csv('drive/MyDrive/celer/sent_fix.tsv', delimiter='\\t')  # TODO ././Data/celer/\n"
          ]
        },
        {
          "output_type": "stream",
          "name": "stdout",
          "text": [
            "Mean scasim dnn 3048.4140625\n",
            "Mean scasim human 3228.8203125\n",
            "Mean central scasim dnn 2285.53125\n",
            "Mean central scasim human 2455.82421875\n",
            "######### Eyettention 2.0 model evaluation ##########\n",
            "MSE for durations 0.06581634581198159\n",
            "MSE for landing positions 0.026876542914124002\n"
          ]
        },
        {
          "output_type": "stream",
          "name": "stderr",
          "text": [
            "/content/utils.py:305: UserWarning: To copy construct from a tensor, it is recommended to use sourceTensor.clone().detach() or sourceTensor.clone().detach().requires_grad_(True), rather than torch.tensor(sourceTensor).\n",
            "  item = torch.tensor(item)\n",
            "/content/scasim.py:101: DtypeWarning: Columns (44) have mixed types. Specify dtype option on import or set low_memory=False.\n",
            "  eyemovement_df = pd.read_csv('drive/MyDrive/celer/sent_fix.tsv', delimiter='\\t')  # TODO ././Data/celer/\n"
          ]
        },
        {
          "output_type": "stream",
          "name": "stdout",
          "text": [
            "Mean scasim dnn 2293.0859375\n",
            "Mean scasim human 2100.81640625\n",
            "Mean central scasim dnn 1854.3828125\n",
            "Mean central scasim human 1750.23046875\n",
            "######### Eyettention 2.0 model evaluation ##########\n",
            "MSE for durations 0.05746023622214125\n",
            "MSE for landing positions 0.029115748060576152\n"
          ]
        },
        {
          "output_type": "stream",
          "name": "stderr",
          "text": [
            "/content/utils.py:305: UserWarning: To copy construct from a tensor, it is recommended to use sourceTensor.clone().detach() or sourceTensor.clone().detach().requires_grad_(True), rather than torch.tensor(sourceTensor).\n",
            "  item = torch.tensor(item)\n",
            "/content/scasim.py:101: DtypeWarning: Columns (44) have mixed types. Specify dtype option on import or set low_memory=False.\n",
            "  eyemovement_df = pd.read_csv('drive/MyDrive/celer/sent_fix.tsv', delimiter='\\t')  # TODO ././Data/celer/\n"
          ]
        },
        {
          "output_type": "stream",
          "name": "stdout",
          "text": [
            "Mean scasim dnn 1898.4609375\n",
            "Mean scasim human 1617.3515625\n",
            "Mean central scasim dnn 1523.47265625\n",
            "Mean central scasim human 1377.0859375\n",
            "######### Eyettention 2.0 model evaluation ##########\n",
            "MSE for durations 0.06742480978846288\n",
            "MSE for landing positions 0.03929590157531493\n"
          ]
        },
        {
          "output_type": "stream",
          "name": "stderr",
          "text": [
            "/content/utils.py:305: UserWarning: To copy construct from a tensor, it is recommended to use sourceTensor.clone().detach() or sourceTensor.clone().detach().requires_grad_(True), rather than torch.tensor(sourceTensor).\n",
            "  item = torch.tensor(item)\n",
            "/content/scasim.py:101: DtypeWarning: Columns (44) have mixed types. Specify dtype option on import or set low_memory=False.\n",
            "  eyemovement_df = pd.read_csv('drive/MyDrive/celer/sent_fix.tsv', delimiter='\\t')  # TODO ././Data/celer/\n"
          ]
        },
        {
          "output_type": "stream",
          "name": "stdout",
          "text": [
            "Mean scasim dnn 2585.4375\n",
            "Mean scasim human 3653.75\n",
            "Mean central scasim dnn 1891.234375\n",
            "Mean central scasim human 2068.2578125\n",
            "######### Eyettention 2.0 model evaluation ##########\n",
            "MSE for durations 0.06505785560693766\n",
            "MSE for landing positions 0.030763738642235694\n"
          ]
        },
        {
          "output_type": "stream",
          "name": "stderr",
          "text": [
            "/content/utils.py:305: UserWarning: To copy construct from a tensor, it is recommended to use sourceTensor.clone().detach() or sourceTensor.clone().detach().requires_grad_(True), rather than torch.tensor(sourceTensor).\n",
            "  item = torch.tensor(item)\n",
            "/content/scasim.py:101: DtypeWarning: Columns (44) have mixed types. Specify dtype option on import or set low_memory=False.\n",
            "  eyemovement_df = pd.read_csv('drive/MyDrive/celer/sent_fix.tsv', delimiter='\\t')  # TODO ././Data/celer/\n"
          ]
        },
        {
          "output_type": "stream",
          "name": "stdout",
          "text": [
            "Mean scasim dnn 3329.2429378531074\n",
            "Mean scasim human 4615.209039548023\n",
            "Mean central scasim dnn 2545.6949152542375\n",
            "Mean central scasim human 2443.7344632768363\n",
            "######### Eyettention 2.0 model evaluation ##########\n",
            "MSE for durations 0.06848705475204042\n",
            "MSE for landing positions 0.04074312265493063\n"
          ]
        },
        {
          "output_type": "stream",
          "name": "stderr",
          "text": [
            "/content/utils.py:305: UserWarning: To copy construct from a tensor, it is recommended to use sourceTensor.clone().detach() or sourceTensor.clone().detach().requires_grad_(True), rather than torch.tensor(sourceTensor).\n",
            "  item = torch.tensor(item)\n"
          ]
        },
        {
          "output_type": "stream",
          "name": "stdout",
          "text": [
            "######### Eyettention 2.0 model evaluation ##########\n",
            "MSE for durations 0.0642658873948676\n",
            "MSE for landing positions 0.0388561138232717\n"
          ]
        },
        {
          "output_type": "stream",
          "name": "stderr",
          "text": [
            "/content/utils.py:305: UserWarning: To copy construct from a tensor, it is recommended to use sourceTensor.clone().detach() or sourceTensor.clone().detach().requires_grad_(True), rather than torch.tensor(sourceTensor).\n",
            "  item = torch.tensor(item)\n"
          ]
        },
        {
          "output_type": "stream",
          "name": "stdout",
          "text": [
            "Test likelihood is -2.0610956976308126\n",
            "Standard error for NLL 0.01193629281338028\n",
            "Test MSE for durations is 0.06578305027741749\n",
            "Standard error for MSE dur 0.0013914649176770307\n",
            "Test MSE for landing positions is 0.037591012878073746\n",
            "Standard error for MSE land pos 0.003513550548592521\n",
            "Central Scasim dnn 1969.0738636363637\n",
            "Standard error for Central scasim DNN 40.232299871332756\n",
            "Central Scasim human 1980.4228896103896\n",
            "Standard error for Central scasim human 42.398178712505015\n",
            "Scasim dnn 2563.3060064935066\n",
            "Standard error for scasim dnn 48.23609279917642\n",
            "Scasim human 2912.8660714285716\n",
            "Standard error for scasim human 49.97904405482381\n"
          ]
        },
        {
          "output_type": "stream",
          "name": "stderr",
          "text": [
            "100%|██████████| 3492/3492 [15:42<00:00,  3.70it/s]\n",
            "100%|██████████| 873/873 [03:53<00:00,  3.74it/s]\n",
            "100%|██████████| 1091/1091 [04:53<00:00,  3.72it/s]\n",
            "/usr/local/lib/python3.10/dist-packages/huggingface_hub/file_download.py:1132: FutureWarning: `resume_download` is deprecated and will be removed in version 1.0.0. Downloads always resume when possible. If you want to force a new download, use `force_download=True`.\n",
            "  warnings.warn(\n"
          ]
        },
        {
          "output_type": "stream",
          "name": "stdout",
          "text": [
            "keeping Bert with pre-trained weights\n",
            "######### Eyettention 2.0 model evaluation ##########\n",
            "MSE for durations 0.2495339819261062\n",
            "MSE for landing positions 0.03464226301595108\n"
          ]
        },
        {
          "output_type": "stream",
          "name": "stderr",
          "text": [
            "/content/utils.py:305: UserWarning: To copy construct from a tensor, it is recommended to use sourceTensor.clone().detach() or sourceTensor.clone().detach().requires_grad_(True), rather than torch.tensor(sourceTensor).\n",
            "  item = torch.tensor(item)\n"
          ]
        },
        {
          "output_type": "stream",
          "name": "stdout",
          "text": [
            "######### Eyettention 2.0 model evaluation ##########\n",
            "MSE for durations 0.06798229138894385\n",
            "MSE for landing positions 0.03331755102180978\n"
          ]
        },
        {
          "output_type": "stream",
          "name": "stderr",
          "text": [
            "/content/utils.py:305: UserWarning: To copy construct from a tensor, it is recommended to use sourceTensor.clone().detach() or sourceTensor.clone().detach().requires_grad_(True), rather than torch.tensor(sourceTensor).\n",
            "  item = torch.tensor(item)\n"
          ]
        },
        {
          "output_type": "stream",
          "name": "stdout",
          "text": [
            "######### Eyettention 2.0 model evaluation ##########\n",
            "MSE for durations 0.05709180183475837\n",
            "MSE for landing positions 0.0280164585537932\n"
          ]
        },
        {
          "output_type": "stream",
          "name": "stderr",
          "text": [
            "/content/utils.py:305: UserWarning: To copy construct from a tensor, it is recommended to use sourceTensor.clone().detach() or sourceTensor.clone().detach().requires_grad_(True), rather than torch.tensor(sourceTensor).\n",
            "  item = torch.tensor(item)\n",
            "/content/scasim.py:101: DtypeWarning: Columns (44) have mixed types. Specify dtype option on import or set low_memory=False.\n",
            "  eyemovement_df = pd.read_csv('drive/MyDrive/celer/sent_fix.tsv', delimiter='\\t')  # TODO ././Data/celer/\n"
          ]
        },
        {
          "output_type": "stream",
          "name": "stdout",
          "text": [
            "Mean scasim dnn 1815.9352226720648\n",
            "Mean scasim human 2399.663967611336\n",
            "Mean central scasim dnn 1476.165991902834\n",
            "Mean central scasim human 1373.7854251012145\n",
            "######### Eyettention 2.0 model evaluation ##########\n",
            "MSE for durations 0.06314690834369685\n",
            "MSE for landing positions 0.03157543174984312\n"
          ]
        },
        {
          "output_type": "stream",
          "name": "stderr",
          "text": [
            "/content/utils.py:305: UserWarning: To copy construct from a tensor, it is recommended to use sourceTensor.clone().detach() or sourceTensor.clone().detach().requires_grad_(True), rather than torch.tensor(sourceTensor).\n",
            "  item = torch.tensor(item)\n",
            "/content/scasim.py:101: DtypeWarning: Columns (44) have mixed types. Specify dtype option on import or set low_memory=False.\n",
            "  eyemovement_df = pd.read_csv('drive/MyDrive/celer/sent_fix.tsv', delimiter='\\t')  # TODO ././Data/celer/\n"
          ]
        },
        {
          "output_type": "stream",
          "name": "stdout",
          "text": [
            "Mean scasim dnn 2466.46875\n",
            "Mean scasim human 3602.65234375\n",
            "Mean central scasim dnn 1999.66015625\n",
            "Mean central scasim human 1935.47265625\n",
            "######### Eyettention 2.0 model evaluation ##########\n",
            "MSE for durations 0.10236452973549603\n",
            "MSE for landing positions 0.041506284151182626\n"
          ]
        },
        {
          "output_type": "stream",
          "name": "stderr",
          "text": [
            "/content/utils.py:305: UserWarning: To copy construct from a tensor, it is recommended to use sourceTensor.clone().detach() or sourceTensor.clone().detach().requires_grad_(True), rather than torch.tensor(sourceTensor).\n",
            "  item = torch.tensor(item)\n",
            "/content/scasim.py:101: DtypeWarning: Columns (44) have mixed types. Specify dtype option on import or set low_memory=False.\n",
            "  eyemovement_df = pd.read_csv('drive/MyDrive/celer/sent_fix.tsv', delimiter='\\t')  # TODO ././Data/celer/\n"
          ]
        },
        {
          "output_type": "stream",
          "name": "stdout",
          "text": [
            "Mean scasim dnn 2822.8125\n",
            "Mean scasim human 2474.96875\n",
            "Mean central scasim dnn 1906.62109375\n",
            "Mean central scasim human 2269.234375\n",
            "######### Eyettention 2.0 model evaluation ##########\n",
            "MSE for durations 0.05603665057924445\n",
            "MSE for landing positions 0.028825469551179594\n"
          ]
        },
        {
          "output_type": "stream",
          "name": "stderr",
          "text": [
            "/content/utils.py:305: UserWarning: To copy construct from a tensor, it is recommended to use sourceTensor.clone().detach() or sourceTensor.clone().detach().requires_grad_(True), rather than torch.tensor(sourceTensor).\n",
            "  item = torch.tensor(item)\n",
            "/content/scasim.py:101: DtypeWarning: Columns (44) have mixed types. Specify dtype option on import or set low_memory=False.\n",
            "  eyemovement_df = pd.read_csv('drive/MyDrive/celer/sent_fix.tsv', delimiter='\\t')  # TODO ././Data/celer/\n"
          ]
        },
        {
          "output_type": "stream",
          "name": "stdout",
          "text": [
            "Mean scasim dnn 2507.328244274809\n",
            "Mean scasim human 3251.389312977099\n",
            "Mean central scasim dnn 1760.7709923664122\n",
            "Mean central scasim human 1976.4656488549617\n",
            "######### Eyettention 2.0 model evaluation ##########\n",
            "MSE for durations 0.061609406940988265\n",
            "MSE for landing positions 0.035801204187009716\n"
          ]
        },
        {
          "output_type": "stream",
          "name": "stderr",
          "text": [
            "/content/utils.py:305: UserWarning: To copy construct from a tensor, it is recommended to use sourceTensor.clone().detach() or sourceTensor.clone().detach().requires_grad_(True), rather than torch.tensor(sourceTensor).\n",
            "  item = torch.tensor(item)\n"
          ]
        },
        {
          "output_type": "stream",
          "name": "stdout",
          "text": [
            "######### Eyettention 2.0 model evaluation ##########\n",
            "MSE for durations 0.07333004563891639\n",
            "MSE for landing positions 0.03688613514809515\n"
          ]
        },
        {
          "output_type": "stream",
          "name": "stderr",
          "text": [
            "/content/utils.py:305: UserWarning: To copy construct from a tensor, it is recommended to use sourceTensor.clone().detach() or sourceTensor.clone().detach().requires_grad_(True), rather than torch.tensor(sourceTensor).\n",
            "  item = torch.tensor(item)\n"
          ]
        },
        {
          "output_type": "stream",
          "name": "stdout",
          "text": [
            "Test likelihood is -1.971025157913182\n",
            "Standard error for NLL 0.012631020351775601\n",
            "Test MSE for durations is 0.09219767029548054\n",
            "Standard error for MSE dur 0.021108359802331236\n",
            "Test MSE for landing positions is 0.033683747059161676\n",
            "Standard error for MSE land pos 0.0007638133280728311\n",
            "Central Scasim dnn 1792.4516853932585\n",
            "Standard error for Central scasim DNN 42.89830166039071\n",
            "Central Scasim human 1881.6258426966292\n",
            "Standard error for Central scasim human 46.669974365391255\n",
            "Scasim dnn 2394.4404494382024\n",
            "Standard error for scasim dnn 53.84546068461685\n",
            "Scasim human 2892.7191011235955\n",
            "Standard error for scasim human 65.83979239458384\n"
          ]
        },
        {
          "output_type": "stream",
          "name": "stderr",
          "text": [
            "100%|██████████| 3492/3492 [15:46<00:00,  3.69it/s]\n",
            "100%|██████████| 873/873 [03:55<00:00,  3.71it/s]\n",
            "100%|██████████| 1091/1091 [04:55<00:00,  3.69it/s]\n",
            "/usr/local/lib/python3.10/dist-packages/huggingface_hub/file_download.py:1132: FutureWarning: `resume_download` is deprecated and will be removed in version 1.0.0. Downloads always resume when possible. If you want to force a new download, use `force_download=True`.\n",
            "  warnings.warn(\n"
          ]
        },
        {
          "output_type": "stream",
          "name": "stdout",
          "text": [
            "keeping Bert with pre-trained weights\n",
            "######### Eyettention 2.0 model evaluation ##########\n",
            "MSE for durations 0.10576088256311778\n",
            "MSE for landing positions 0.03616263180356327\n"
          ]
        },
        {
          "output_type": "stream",
          "name": "stderr",
          "text": [
            "/content/utils.py:305: UserWarning: To copy construct from a tensor, it is recommended to use sourceTensor.clone().detach() or sourceTensor.clone().detach().requires_grad_(True), rather than torch.tensor(sourceTensor).\n",
            "  item = torch.tensor(item)\n"
          ]
        },
        {
          "output_type": "stream",
          "name": "stdout",
          "text": [
            "######### Eyettention 2.0 model evaluation ##########\n",
            "MSE for durations 0.060220143268452375\n",
            "MSE for landing positions 0.0319188579242109\n"
          ]
        },
        {
          "output_type": "stream",
          "name": "stderr",
          "text": [
            "/content/utils.py:305: UserWarning: To copy construct from a tensor, it is recommended to use sourceTensor.clone().detach() or sourceTensor.clone().detach().requires_grad_(True), rather than torch.tensor(sourceTensor).\n",
            "  item = torch.tensor(item)\n",
            "/content/scasim.py:101: DtypeWarning: Columns (44) have mixed types. Specify dtype option on import or set low_memory=False.\n",
            "  eyemovement_df = pd.read_csv('drive/MyDrive/celer/sent_fix.tsv', delimiter='\\t')  # TODO ././Data/celer/\n"
          ]
        },
        {
          "output_type": "stream",
          "name": "stdout",
          "text": [
            "Mean scasim dnn 1373.3333333333333\n",
            "Mean scasim human 1354.0\n",
            "Mean central scasim dnn 863.8333333333334\n",
            "Mean central scasim human 1260.1666666666667\n",
            "######### Eyettention 2.0 model evaluation ##########\n",
            "MSE for durations 0.06773279638946406\n",
            "MSE for landing positions 0.03669343184628815\n"
          ]
        },
        {
          "output_type": "stream",
          "name": "stderr",
          "text": [
            "/content/utils.py:305: UserWarning: To copy construct from a tensor, it is recommended to use sourceTensor.clone().detach() or sourceTensor.clone().detach().requires_grad_(True), rather than torch.tensor(sourceTensor).\n",
            "  item = torch.tensor(item)\n",
            "/content/scasim.py:101: DtypeWarning: Columns (44) have mixed types. Specify dtype option on import or set low_memory=False.\n",
            "  eyemovement_df = pd.read_csv('drive/MyDrive/celer/sent_fix.tsv', delimiter='\\t')  # TODO ././Data/celer/\n"
          ]
        },
        {
          "output_type": "stream",
          "name": "stdout",
          "text": [
            "Mean scasim dnn 2090.1328125\n",
            "Mean scasim human 2291.53125\n",
            "Mean central scasim dnn 1654.23828125\n",
            "Mean central scasim human 1639.5234375\n",
            "######### Eyettention 2.0 model evaluation ##########\n",
            "MSE for durations 0.056558098482582864\n",
            "MSE for landing positions 0.027172956255526515\n"
          ]
        },
        {
          "output_type": "stream",
          "name": "stderr",
          "text": [
            "/content/utils.py:305: UserWarning: To copy construct from a tensor, it is recommended to use sourceTensor.clone().detach() or sourceTensor.clone().detach().requires_grad_(True), rather than torch.tensor(sourceTensor).\n",
            "  item = torch.tensor(item)\n",
            "/content/scasim.py:101: DtypeWarning: Columns (44) have mixed types. Specify dtype option on import or set low_memory=False.\n",
            "  eyemovement_df = pd.read_csv('drive/MyDrive/celer/sent_fix.tsv', delimiter='\\t')  # TODO ././Data/celer/\n"
          ]
        },
        {
          "output_type": "stream",
          "name": "stdout",
          "text": [
            "Mean scasim dnn 2480.53125\n",
            "Mean scasim human 2882.1484375\n",
            "Mean central scasim dnn 1977.921875\n",
            "Mean central scasim human 1900.515625\n",
            "######### Eyettention 2.0 model evaluation ##########\n",
            "MSE for durations 0.07594748267365503\n",
            "MSE for landing positions 0.052061442878766684\n"
          ]
        },
        {
          "output_type": "stream",
          "name": "stderr",
          "text": [
            "/content/utils.py:305: UserWarning: To copy construct from a tensor, it is recommended to use sourceTensor.clone().detach() or sourceTensor.clone().detach().requires_grad_(True), rather than torch.tensor(sourceTensor).\n",
            "  item = torch.tensor(item)\n",
            "/content/scasim.py:101: DtypeWarning: Columns (44) have mixed types. Specify dtype option on import or set low_memory=False.\n",
            "  eyemovement_df = pd.read_csv('drive/MyDrive/celer/sent_fix.tsv', delimiter='\\t')  # TODO ././Data/celer/\n"
          ]
        },
        {
          "output_type": "stream",
          "name": "stdout",
          "text": [
            "Mean scasim dnn 3025.55859375\n",
            "Mean scasim human 4207.21875\n",
            "Mean central scasim dnn 2296.8125\n",
            "Mean central scasim human 2376.58203125\n",
            "######### Eyettention 2.0 model evaluation ##########\n",
            "MSE for durations 0.06713066191332473\n",
            "MSE for landing positions 0.03799520129814482\n"
          ]
        },
        {
          "output_type": "stream",
          "name": "stderr",
          "text": [
            "/content/utils.py:305: UserWarning: To copy construct from a tensor, it is recommended to use sourceTensor.clone().detach() or sourceTensor.clone().detach().requires_grad_(True), rather than torch.tensor(sourceTensor).\n",
            "  item = torch.tensor(item)\n",
            "/content/scasim.py:101: DtypeWarning: Columns (44) have mixed types. Specify dtype option on import or set low_memory=False.\n",
            "  eyemovement_df = pd.read_csv('drive/MyDrive/celer/sent_fix.tsv', delimiter='\\t')  # TODO ././Data/celer/\n"
          ]
        },
        {
          "output_type": "stream",
          "name": "stdout",
          "text": [
            "Mean scasim dnn 2591.563157894737\n",
            "Mean scasim human 2391.0684210526315\n",
            "Mean central scasim dnn 2315.3\n",
            "Mean central scasim human 1650.8473684210526\n",
            "######### Eyettention 2.0 model evaluation ##########\n",
            "MSE for durations 0.08379698285898485\n",
            "MSE for landing positions 0.04224545896249765\n"
          ]
        },
        {
          "output_type": "stream",
          "name": "stderr",
          "text": [
            "/content/utils.py:305: UserWarning: To copy construct from a tensor, it is recommended to use sourceTensor.clone().detach() or sourceTensor.clone().detach().requires_grad_(True), rather than torch.tensor(sourceTensor).\n",
            "  item = torch.tensor(item)\n"
          ]
        },
        {
          "output_type": "stream",
          "name": "stdout",
          "text": [
            "######### Eyettention 2.0 model evaluation ##########\n",
            "MSE for durations 0.07228223527896643\n",
            "MSE for landing positions 0.049443942115741775\n"
          ]
        },
        {
          "output_type": "stream",
          "name": "stderr",
          "text": [
            "/content/utils.py:305: UserWarning: To copy construct from a tensor, it is recommended to use sourceTensor.clone().detach() or sourceTensor.clone().detach().requires_grad_(True), rather than torch.tensor(sourceTensor).\n",
            "  item = torch.tensor(item)\n"
          ]
        },
        {
          "output_type": "stream",
          "name": "stdout",
          "text": [
            "Test likelihood is -2.088259837882343\n",
            "Standard error for NLL 0.012374591417245142\n",
            "Test MSE for durations is 0.07368758108062985\n",
            "Standard error for MSE dur 0.0040136121599379845\n",
            "Test MSE for landing positions is 0.03914637496913451\n",
            "Standard error for MSE land pos 0.0012337242996529945\n",
            "Central Scasim dnn 2036.2105809128632\n",
            "Standard error for Central scasim DNN 45.420468973271774\n",
            "Central Scasim human 1904.4367219917012\n",
            "Standard error for Central scasim human 41.99624797975247\n",
            "Scasim dnn 2536.5871369294605\n",
            "Standard error for scasim dnn 50.16564562011159\n",
            "Scasim human 2970.889004149378\n",
            "Standard error for scasim human 51.07647058857192\n"
          ]
        },
        {
          "output_type": "stream",
          "name": "stderr",
          "text": [
            "100%|██████████| 3492/3492 [15:53<00:00,  3.66it/s]\n",
            "100%|██████████| 873/873 [03:56<00:00,  3.70it/s]\n",
            "100%|██████████| 1091/1091 [04:57<00:00,  3.67it/s]\n",
            "/usr/local/lib/python3.10/dist-packages/huggingface_hub/file_download.py:1132: FutureWarning: `resume_download` is deprecated and will be removed in version 1.0.0. Downloads always resume when possible. If you want to force a new download, use `force_download=True`.\n",
            "  warnings.warn(\n"
          ]
        },
        {
          "output_type": "stream",
          "name": "stdout",
          "text": [
            "keeping Bert with pre-trained weights\n",
            "######### Eyettention 2.0 model evaluation ##########\n",
            "MSE for durations 0.08059092508847243\n",
            "MSE for landing positions 0.038018720124455285\n"
          ]
        },
        {
          "output_type": "stream",
          "name": "stderr",
          "text": [
            "/content/utils.py:305: UserWarning: To copy construct from a tensor, it is recommended to use sourceTensor.clone().detach() or sourceTensor.clone().detach().requires_grad_(True), rather than torch.tensor(sourceTensor).\n",
            "  item = torch.tensor(item)\n"
          ]
        },
        {
          "output_type": "stream",
          "name": "stdout",
          "text": [
            "######### Eyettention 2.0 model evaluation ##########\n",
            "MSE for durations 0.2626500140549979\n",
            "MSE for landing positions 0.03708551933414128\n"
          ]
        },
        {
          "output_type": "stream",
          "name": "stderr",
          "text": [
            "/content/utils.py:305: UserWarning: To copy construct from a tensor, it is recommended to use sourceTensor.clone().detach() or sourceTensor.clone().detach().requires_grad_(True), rather than torch.tensor(sourceTensor).\n",
            "  item = torch.tensor(item)\n",
            "/content/scasim.py:101: DtypeWarning: Columns (44) have mixed types. Specify dtype option on import or set low_memory=False.\n",
            "  eyemovement_df = pd.read_csv('drive/MyDrive/celer/sent_fix.tsv', delimiter='\\t')  # TODO ././Data/celer/\n"
          ]
        },
        {
          "output_type": "stream",
          "name": "stdout",
          "text": [
            "Mean scasim dnn 1347.0\n",
            "Mean scasim human 1328.4814814814815\n",
            "Mean central scasim dnn 1075.851851851852\n",
            "Mean central scasim human 777.0370370370371\n",
            "######### Eyettention 2.0 model evaluation ##########\n",
            "MSE for durations 0.09219202986605524\n",
            "MSE for landing positions 0.03451940791637753\n"
          ]
        },
        {
          "output_type": "stream",
          "name": "stderr",
          "text": [
            "/content/utils.py:305: UserWarning: To copy construct from a tensor, it is recommended to use sourceTensor.clone().detach() or sourceTensor.clone().detach().requires_grad_(True), rather than torch.tensor(sourceTensor).\n",
            "  item = torch.tensor(item)\n",
            "/content/scasim.py:101: DtypeWarning: Columns (44) have mixed types. Specify dtype option on import or set low_memory=False.\n",
            "  eyemovement_df = pd.read_csv('drive/MyDrive/celer/sent_fix.tsv', delimiter='\\t')  # TODO ././Data/celer/\n"
          ]
        },
        {
          "output_type": "stream",
          "name": "stdout",
          "text": [
            "Mean scasim dnn 3085.21875\n",
            "Mean scasim human 3145.2578125\n",
            "Mean central scasim dnn 2315.9140625\n",
            "Mean central scasim human 2437.23046875\n",
            "######### Eyettention 2.0 model evaluation ##########\n",
            "MSE for durations 0.0748859060850009\n",
            "MSE for landing positions 0.030099151935246482\n"
          ]
        },
        {
          "output_type": "stream",
          "name": "stderr",
          "text": [
            "/content/utils.py:305: UserWarning: To copy construct from a tensor, it is recommended to use sourceTensor.clone().detach() or sourceTensor.clone().detach().requires_grad_(True), rather than torch.tensor(sourceTensor).\n",
            "  item = torch.tensor(item)\n",
            "/content/scasim.py:101: DtypeWarning: Columns (44) have mixed types. Specify dtype option on import or set low_memory=False.\n",
            "  eyemovement_df = pd.read_csv('drive/MyDrive/celer/sent_fix.tsv', delimiter='\\t')  # TODO ././Data/celer/\n"
          ]
        },
        {
          "output_type": "stream",
          "name": "stdout",
          "text": [
            "Mean scasim dnn 2649.1875\n",
            "Mean scasim human 2758.6015625\n",
            "Mean central scasim dnn 2027.28515625\n",
            "Mean central scasim human 2143.90625\n",
            "######### Eyettention 2.0 model evaluation ##########\n",
            "MSE for durations 0.058850572242249655\n",
            "MSE for landing positions 0.02786623342854\n"
          ]
        },
        {
          "output_type": "stream",
          "name": "stderr",
          "text": [
            "/content/utils.py:305: UserWarning: To copy construct from a tensor, it is recommended to use sourceTensor.clone().detach() or sourceTensor.clone().detach().requires_grad_(True), rather than torch.tensor(sourceTensor).\n",
            "  item = torch.tensor(item)\n",
            "/content/scasim.py:101: DtypeWarning: Columns (44) have mixed types. Specify dtype option on import or set low_memory=False.\n",
            "  eyemovement_df = pd.read_csv('drive/MyDrive/celer/sent_fix.tsv', delimiter='\\t')  # TODO ././Data/celer/\n"
          ]
        },
        {
          "output_type": "stream",
          "name": "stdout",
          "text": [
            "Mean scasim dnn 1958.02734375\n",
            "Mean scasim human 1976.765625\n",
            "Mean central scasim dnn 1498.6640625\n",
            "Mean central scasim human 1467.82421875\n",
            "######### Eyettention 2.0 model evaluation ##########\n",
            "MSE for durations 0.06412343809734011\n",
            "MSE for landing positions 0.03797139007383521\n"
          ]
        },
        {
          "output_type": "stream",
          "name": "stderr",
          "text": [
            "/content/utils.py:305: UserWarning: To copy construct from a tensor, it is recommended to use sourceTensor.clone().detach() or sourceTensor.clone().detach().requires_grad_(True), rather than torch.tensor(sourceTensor).\n",
            "  item = torch.tensor(item)\n",
            "/content/scasim.py:101: DtypeWarning: Columns (44) have mixed types. Specify dtype option on import or set low_memory=False.\n",
            "  eyemovement_df = pd.read_csv('drive/MyDrive/celer/sent_fix.tsv', delimiter='\\t')  # TODO ././Data/celer/\n"
          ]
        },
        {
          "output_type": "stream",
          "name": "stdout",
          "text": [
            "Mean scasim dnn 3099.30078125\n",
            "Mean scasim human 3893.68359375\n",
            "Mean central scasim dnn 2502.93359375\n",
            "Mean central scasim human 2154.8515625\n",
            "######### Eyettention 2.0 model evaluation ##########\n",
            "MSE for durations 0.0745358637859681\n",
            "MSE for landing positions 0.031294627253828367\n"
          ]
        },
        {
          "output_type": "stream",
          "name": "stderr",
          "text": [
            "/content/utils.py:305: UserWarning: To copy construct from a tensor, it is recommended to use sourceTensor.clone().detach() or sourceTensor.clone().detach().requires_grad_(True), rather than torch.tensor(sourceTensor).\n",
            "  item = torch.tensor(item)\n",
            "/content/scasim.py:101: DtypeWarning: Columns (44) have mixed types. Specify dtype option on import or set low_memory=False.\n",
            "  eyemovement_df = pd.read_csv('drive/MyDrive/celer/sent_fix.tsv', delimiter='\\t')  # TODO ././Data/celer/\n"
          ]
        },
        {
          "output_type": "stream",
          "name": "stdout",
          "text": [
            "Mean scasim dnn 2914.0625\n",
            "Mean scasim human 3893.12890625\n",
            "Mean central scasim dnn 2327.484375\n",
            "Mean central scasim human 2073.33984375\n",
            "######### Eyettention 2.0 model evaluation ##########\n",
            "MSE for durations 0.062389809138949204\n",
            "MSE for landing positions 0.03951445176790003\n"
          ]
        },
        {
          "output_type": "stream",
          "name": "stderr",
          "text": [
            "/content/utils.py:305: UserWarning: To copy construct from a tensor, it is recommended to use sourceTensor.clone().detach() or sourceTensor.clone().detach().requires_grad_(True), rather than torch.tensor(sourceTensor).\n",
            "  item = torch.tensor(item)\n",
            "/content/scasim.py:101: DtypeWarning: Columns (44) have mixed types. Specify dtype option on import or set low_memory=False.\n",
            "  eyemovement_df = pd.read_csv('drive/MyDrive/celer/sent_fix.tsv', delimiter='\\t')  # TODO ././Data/celer/\n"
          ]
        },
        {
          "output_type": "stream",
          "name": "stdout",
          "text": [
            "Mean scasim dnn 2827.904761904762\n",
            "Mean scasim human 4400.047619047619\n",
            "Mean central scasim dnn 2001.3650793650793\n",
            "Mean central scasim human 2164.222222222222\n",
            "######### Eyettention 2.0 model evaluation ##########\n",
            "MSE for durations 0.06590061214410525\n",
            "MSE for landing positions 0.03610881685017375\n"
          ]
        },
        {
          "output_type": "stream",
          "name": "stderr",
          "text": [
            "/content/utils.py:305: UserWarning: To copy construct from a tensor, it is recommended to use sourceTensor.clone().detach() or sourceTensor.clone().detach().requires_grad_(True), rather than torch.tensor(sourceTensor).\n",
            "  item = torch.tensor(item)\n"
          ]
        },
        {
          "output_type": "stream",
          "name": "stdout",
          "text": [
            "######### Eyettention 2.0 model evaluation ##########\n",
            "MSE for durations 0.06515581928944403\n",
            "MSE for landing positions 0.037738397222936385\n",
            "Test likelihood is -2.075277932149203\n",
            "Standard error for NLL 0.011176151470856053\n",
            "Test MSE for durations is 0.0914309939733423\n",
            "Standard error for MSE dur 0.01961742417459265\n",
            "Test MSE for landing positions is 0.03487986141594339\n",
            "Standard error for MSE land pos 0.0006975493353672638\n",
            "Central Scasim dnn 2107.4729927007297\n",
            "Standard error for Central scasim DNN 43.137281879034816\n",
            "Central Scasim human 2035.2386861313869\n",
            "Standard error for Central scasim human 41.376468970010635\n",
            "Scasim dnn 2717.6722627737227\n",
            "Standard error for scasim dnn 49.659925478632516\n",
            "Scasim human 3156.1576642335767\n",
            "Standard error for scasim human 52.417063479805726\n"
          ]
        },
        {
          "output_type": "stream",
          "name": "stderr",
          "text": [
            "/content/utils.py:305: UserWarning: To copy construct from a tensor, it is recommended to use sourceTensor.clone().detach() or sourceTensor.clone().detach().requires_grad_(True), rather than torch.tensor(sourceTensor).\n",
            "  item = torch.tensor(item)\n"
          ]
        }
      ],
      "source": [
        "if __name__ == '__main__':\n",
        "\tgpu = 0\n",
        "\n",
        "\ttorch.set_default_tensor_type('torch.FloatTensor')\n",
        "\tavailbl = torch.cuda.is_available()\n",
        "\tif availbl:\n",
        "\t\tdevice = f'cuda:{gpu}'\n",
        "\telse:\n",
        "\t\tdevice = 'cpu'\n",
        "\t#torch.cuda.set_device(gpu)\n",
        "\n",
        "\tcf = {\"model_pretrained\": \"bert-base-cased\",\n",
        "\t\t\t\"lr\": 1e-3,\n",
        "\t\t\t\"max_grad_norm\": 10,\n",
        "\t\t\t\"n_epochs\": 200,  # 1000\n",
        "\t\t\t\"n_folds\": 5,\n",
        "\t\t\t\"dataset\": 'celer',\n",
        "\t\t\t\"atten_type\": 'local-g',\n",
        "\t\t\t\"batch_size\": 256,\n",
        "\t\t\t\"subid_emb_size\": 16,\n",
        "\t\t\t\"max_sn_len\": 24, #include start token and end token\n",
        "\t\t\t\"max_sn_token\": 35,\n",
        "\t\t\t\"max_sp_len\": 52, #include start token and end token\n",
        "\t\t\t\"max_sp_token\": 395,\n",
        "\t\t\t\"norm_type\": \"z-score\",\n",
        "\t\t\t\"earlystop_patience\": 20,\n",
        "\t\t\t\"max_pred_len\": 60\n",
        "\t\t\t}\n",
        "\n",
        "\t#Encode the label into interger categories, setting the exclusive category 'cf[\"max_sn_len\"]-1' as the end sign\n",
        "\tle = LabelEncoder()\n",
        "\tle.fit(np.append(np.arange(-cf[\"max_sn_len\"]+3, cf[\"max_sn_len\"]-1), cf[\"max_sn_len\"]-1))\n",
        "\t#le.classes_\n",
        "\n",
        "\t#load corpus\n",
        "\tword_info_df, _, eyemovement_df = load_corpus(cf[\"dataset\"])\n",
        "\n",
        "\treader_list = celer_load_native_speaker()\n",
        "\t#Make list with sentence index\n",
        "\tsn_list = np.unique(word_info_df[word_info_df['list'].isin(reader_list)].sentenceid.values).tolist()\n",
        "\n",
        "\tprint('Start evaluating on new sentences.')\n",
        "\tsplit_list = sn_list\n",
        "\n",
        "\tn_folds = cf[\"n_folds\"]\n",
        "\tkf = KFold(n_splits=n_folds, shuffle=True, random_state=0)\n",
        "\tfold_indx = 0\n",
        "\t#for scanpath generation\n",
        "\tsp_dnn_list = []\n",
        "\tsp_human_list = []\n",
        "\n",
        "\tsent_dict = convert_sent_id(sn_list)\n",
        "\n",
        "\tfor train_idx, test_idx in kf.split(split_list):\n",
        "\t\tloss_dict = {'val_loss':[], 'train_loss':[], 'test_ll':[], 'test_ll_SE':[], 'test_mse_dur':[], 'test_mse_dur_SE':[], 'test_mse_land_pos':[], 'test_mse_land_pos_SE':[], 'central_scasim_dnn':[], 'central_scasim_dnn_SE':[], 'central_scasim_human':[], 'central_scasim_human_SE':[], 'scasim_dnn':[], 'scasim_dnn_SE':[], 'scasim_human':[], 'scasim_human_SE':[]}\n",
        "\t\tlist_train = [split_list[i] for i in train_idx]\n",
        "\t\tlist_test = [split_list[i] for i in test_idx]\n",
        "\n",
        "\t\t# create train validation split for training the models:\n",
        "\t\tkf_val = KFold(n_splits=n_folds, shuffle=True, random_state=0)\n",
        "\t\tfor train_index, val_index in kf_val.split(list_train):\n",
        "\t\t\t# we only evaluate a single fold\n",
        "\t\t\tbreak\n",
        "\t\tlist_train_net = [list_train[i] for i in train_index]\n",
        "\t\tlist_val_net = [list_train[i] for i in val_index]\n",
        "\n",
        "\t\tsn_list_train = list_train_net\n",
        "\t\tsn_list_val = list_val_net\n",
        "\t\tsn_list_test = list_test\n",
        "\t\treader_list_train, reader_list_val, reader_list_test = reader_list, reader_list, reader_list\n",
        "\n",
        "\t\t#initialize tokenizer\n",
        "\t\ttokenizer = BertTokenizerFast.from_pretrained(cf['model_pretrained'])\n",
        "\n",
        "\t\tfiltered_sent_dict_train = get_relevant_sent_dict(sent_dict, sn_list_train)\n",
        "\t\tfiltered_sent_dict_val = get_relevant_sent_dict(sent_dict, sn_list_val)\n",
        "\t\tfiltered_sent_dict_test = get_relevant_sent_dict(sent_dict, sn_list_test)\n",
        "\n",
        "\t\t#Preparing batch data\n",
        "\t\tdataset_train = celerdataset(word_info_df, eyemovement_df, cf, reader_list_train, sn_list_train, tokenizer, filtered_sent_dict_train)\n",
        "\t\ttrain_dataloaderr = DataLoader(dataset_train, batch_size = cf[\"batch_size\"], shuffle = True, drop_last=True)\n",
        "\n",
        "\t\tdataset_val = celerdataset(word_info_df, eyemovement_df, cf, reader_list_val, sn_list_val, tokenizer, filtered_sent_dict_val)\n",
        "\t\tval_dataloaderr = DataLoader(dataset_val, batch_size = cf[\"batch_size\"], shuffle = False, drop_last=True)\n",
        "\n",
        "\t\tdataset_test = celerdataset(word_info_df, eyemovement_df, cf, reader_list_test, sn_list_test, tokenizer, filtered_sent_dict_test)\n",
        "\t\ttest_dataloaderr = DataLoader(dataset_test, batch_size = cf[\"batch_size\"], shuffle = False, drop_last=False)\n",
        "\n",
        "\t\t#z-score normalization for gaze features\n",
        "\t\tfix_dur_mean, fix_dur_std = calculate_mean_std(dataloader=train_dataloaderr, feat_key=\"sp_fix_dur\", padding_value=0, scale=1000)\n",
        "\t\tlanding_pos_mean, landing_pos_std = calculate_mean_std(dataloader=train_dataloaderr, feat_key=\"sp_landing_pos\", padding_value=0)\n",
        "\t\tsn_word_len_mean, sn_word_len_std = calculate_mean_std(dataloader=train_dataloaderr, feat_key=\"sn_word_len\")\n",
        "\n",
        "\t\t# load model\n",
        "\t\tdnn = Eyettention_readerID(cf)\n",
        "\n",
        "\t\t#training\n",
        "\t\tepisode = 0\n",
        "\t\toptimizer = Adam(dnn.parameters(), lr=cf[\"lr\"])\n",
        "\t\tdnn.train()\n",
        "\t\tdnn.to(device)\n",
        "\t\tav_score = deque(maxlen=100)\n",
        "\t\tav_location_score = deque(maxlen=100)\n",
        "\t\tav_duration_score = deque(maxlen=100)\n",
        "\t\tav_land_pos_score = deque(maxlen=100)\n",
        "\t\told_score = 1e10\n",
        "\t\tsave_ep_couter = 0\n",
        "\t\tprint('Start training')\n",
        "\t\tfor episode_i in range(episode, cf[\"n_epochs\"]+1):\n",
        "\t\t\tdnn.train()\n",
        "\t\t\tprint('episode:', episode_i)\n",
        "\t\t\tcounter = 0\n",
        "\t\t\tfor batchh in train_dataloaderr:\n",
        "\t\t\t\tcounter += 1\n",
        "\t\t\t\tbatchh.keys()\n",
        "\t\t\t\tsn_ids = batchh[\"sn_ids\"].to(device)\n",
        "\t\t\t\tsn_input_ids = batchh[\"sn_input_ids\"].to(device)\n",
        "\t\t\t\tsn_attention_mask = batchh[\"sn_attention_mask\"].to(device)\n",
        "\t\t\t\tword_ids_sn = batchh[\"word_ids_sn\"].to(device)\n",
        "\t\t\t\tsn_word_len = batchh[\"sn_word_len\"].to(device)\n",
        "\n",
        "\t\t\t\tsp_input_ids = batchh[\"sp_input_ids\"].to(device)\n",
        "\t\t\t\tsp_attention_mask = batchh[\"sp_attention_mask\"].to(device)\n",
        "\t\t\t\tword_ids_sp = batchh[\"word_ids_sp\"].to(device)\n",
        "\n",
        "\t\t\t\tsp_pos = batchh[\"sp_pos\"].to(device)\n",
        "\t\t\t\tsp_landing_pos = batchh[\"sp_landing_pos\"].to(device) # [256, 40]\n",
        "\t\t\t\tsp_fix_dur = (batchh[\"sp_fix_dur\"]/1000).to(device) # [256, 40]\n",
        "\n",
        "\t\t\t\t# normalize gaze features (z-score normalisation)\n",
        "\t\t\t\tmask = ~torch.eq(sp_fix_dur, 0)\n",
        "\t\t\t\tsp_fix_dur = (sp_fix_dur-fix_dur_mean)/fix_dur_std * mask\n",
        "\t\t\t\tsp_fix_dur = torch.nan_to_num(sp_fix_dur) # [256, 40]\n",
        "\t\t\t\tsp_landing_pos = (sp_landing_pos - landing_pos_mean)/landing_pos_std * mask\n",
        "\t\t\t\tsp_landing_pos = torch.nan_to_num(sp_landing_pos)\n",
        "\t\t\t\tsn_word_len = (sn_word_len - sn_word_len_mean)/sn_word_len_std\n",
        "\t\t\t\tsn_word_len = torch.nan_to_num(sn_word_len)\n",
        "\t\t\t\tsub_id = batchh[\"sub_id\"].to(device)\n",
        "\n",
        "\t\t\t\t# zero old gradients\n",
        "\t\t\t\toptimizer.zero_grad()\n",
        "\t\t\t\t# predict output with DNN\n",
        "\t\t\t\tlocation_preds, duration_preds, landing_pos_preds, atten_weights = dnn(sn_emd=sn_input_ids,\n",
        "\t\t\t\t\t\t\t\t\t\t\tsn_mask=sn_attention_mask,\n",
        "\t\t\t\t\t\t\t\t\t\t\tsp_emd=sp_input_ids,\n",
        "\t\t\t\t\t\t\t\t\t\t\tsp_pos=sp_pos,\n",
        "\t\t\t\t\t\t\t\t\t\t\tword_ids_sn=word_ids_sn,\n",
        "\t\t\t\t\t\t\t\t\t\t\tword_ids_sp=word_ids_sp,\n",
        "\t\t\t\t\t\t\t\t\t\t\tsp_fix_dur=sp_fix_dur,\n",
        "\t\t\t\t\t\t\t\t\t\t\tsp_landing_pos=sp_landing_pos,\n",
        "\t\t\t\t\t\t\t\t\t\t\tsn_word_len = sn_word_len,\n",
        "\t\t\t\t\t\t\t\t\t\t\tsn_word_freq= None,\n",
        "\t\t\t\t\t\t\t\t\t\t\tsn_pred = None)#[batch, step, dec_o_dim]\n",
        "\n",
        "\t\t\t\tlocation_preds = location_preds.permute(0,2,1)              #[batch, dec_o_dim, step]\n",
        "\n",
        "\t\t\t\t#prepare label and mask\n",
        "\t\t\t\t# Compute loss for fixation locations\n",
        "\t\t\t\tpad_mask, label = load_label(sp_pos, cf, le, device)\n",
        "\t\t\t\tloss = nn.CrossEntropyLoss(reduction=\"none\")\n",
        "\t\t\t\tbatch_location_error = torch.mean(torch.masked_select(loss(location_preds, label), ~pad_mask))\n",
        "\n",
        "\t\t\t\t# Compute loss for fixation durations\n",
        "\t\t\t\tduration_labels = sp_fix_dur[:, :51] # Adjust duration_labels to match the sequence length of duration_preds\n",
        "\t\t\t\tduration_preds = duration_preds.squeeze(-1)  # Remove extra dimension (from [256, 39, 1] to [256, 39])\n",
        "\t\t\t\tdur_loss = nn.MSELoss(reduction=\"none\")\n",
        "\t\t\t\tbatch_duration_error = torch.mean(dur_loss(duration_preds, duration_labels))\n",
        "\n",
        "\t\t\t\t# Compute loss for landing position\n",
        "\t\t\t\tlanding_pos_labels = sp_landing_pos[:, :51] # Adjust duration_labels to match the sequence length of duration_preds\n",
        "\t\t\t\tlanding_pos_preds = landing_pos_preds.squeeze(-1)  # Remove extra dimension (from [256, 39, 1] to [256, 39])\n",
        "\t\t\t\tland_pos_loss = nn.MSELoss(reduction=\"none\")\n",
        "\t\t\t\tbatch_land_pos_error = torch.mean(land_pos_loss(landing_pos_preds, landing_pos_labels))\n",
        "\n",
        "\t\t\t\t# Combined loss for both location and duration\n",
        "\t\t\t\tbatch_error = batch_location_error +  batch_duration_error + batch_land_pos_error\n",
        "\n",
        "\t\t\t\t# backpropagate loss\n",
        "\t\t\t\tbatch_error.backward()\n",
        "\t\t\t\t# clip gradients\n",
        "\t\t\t\tgradient_clipping(dnn, cf[\"max_grad_norm\"])\n",
        "\n",
        "\t\t\t\t#learn\n",
        "\t\t\t\toptimizer.step()\n",
        "\t\t\t\tav_location_score.append(batch_location_error.to('cpu').detach().numpy())\n",
        "\t\t\t\tav_duration_score.append(batch_duration_error.to('cpu').detach().numpy())\n",
        "\t\t\t\tav_land_pos_score.append(batch_land_pos_error.to('cpu').detach().numpy())\n",
        "\t\t\t\tav_score.append(batch_error.to('cpu').detach().numpy())\n",
        "\t\t\t\tprint('counter:',counter)\n",
        "\t\t\t\tprint('\\rSample {}\\tLocation Loss: {:.10f}\\tDuration Loss: {:.10f}\\tLanding position Loss: {:.10f}'.format(\n",
        "          \tcounter, np.mean(av_location_score), np.mean(av_duration_score), np.mean(av_land_pos_score)), end=\" \")\n",
        "\t\t\tloss_dict['train_loss'].append(np.mean(av_score))\n",
        "\n",
        "\t\t\tlocation_val_loss = []\n",
        "\t\t\tduration_val_loss = []\n",
        "\t\t\tland_pos_val_loss = []\n",
        "\t\t\tval_loss = []\n",
        "\t\t\tdnn.eval()\n",
        "\t\t\tfor batchh in val_dataloaderr:\n",
        "\t\t\t\twith torch.no_grad():\n",
        "\t\t\t\t\tsn_ids_val = batchh[\"sn_ids\"].to(device)\n",
        "\t\t\t\t\tsn_input_ids_val = batchh[\"sn_input_ids\"].to(device)\n",
        "\t\t\t\t\tsn_attention_mask_val = batchh[\"sn_attention_mask\"].to(device)\n",
        "\t\t\t\t\tword_ids_sn_val = batchh[\"word_ids_sn\"].to(device)\n",
        "\t\t\t\t\tsn_word_len_val = batchh[\"sn_word_len\"].to(device)\n",
        "\n",
        "\t\t\t\t\tsp_input_ids_val = batchh[\"sp_input_ids\"].to(device)\n",
        "\t\t\t\t\tsp_attention_mask_val = batchh[\"sp_attention_mask\"].to(device)\n",
        "\t\t\t\t\tword_ids_sp_val = batchh[\"word_ids_sp\"].to(device)\n",
        "\n",
        "\t\t\t\t\tsp_pos_val = batchh[\"sp_pos\"].to(device)\n",
        "\t\t\t\t\tsp_landing_pos_val = batchh[\"sp_landing_pos\"].to(device)\n",
        "\t\t\t\t\tsp_fix_dur_val = (batchh[\"sp_fix_dur\"]/1000).to(device)\n",
        "\n",
        "\t\t\t\t\t#normalize gaze features\n",
        "\t\t\t\t\tmask = ~torch.eq(sp_fix_dur_val, 0)\n",
        "\t\t\t\t\tsp_fix_dur_val = (sp_fix_dur_val-fix_dur_mean)/fix_dur_std * mask\n",
        "\t\t\t\t\tsp_landing_pos_val = (sp_landing_pos_val - landing_pos_mean)/landing_pos_std * mask\n",
        "\t\t\t\t\tsp_fix_dur_val = torch.nan_to_num(sp_fix_dur_val)\n",
        "\t\t\t\t\tsp_landing_pos_val = torch.nan_to_num(sp_landing_pos_val)\n",
        "\t\t\t\t\tsn_word_len_val = (sn_word_len_val - sn_word_len_mean)/sn_word_len_std\n",
        "\t\t\t\t\tsn_word_len_val = torch.nan_to_num(sn_word_len_val)\n",
        "\t\t\t\t\tsub_id_val = batchh[\"sub_id\"].to(device)\n",
        "\n",
        "\t\t\t\t\tlocation_preds_val, duration_preds_val, landing_pos_preds_val, atten_weights_val = dnn(sn_emd=sn_input_ids_val,\n",
        "\t\t\t\t\t\t\t\t\t\t\t\t\t\tsn_mask=sn_attention_mask_val,\n",
        "\t\t\t\t\t\t\t\t\t\t\t\t\t\tsp_emd=sp_input_ids_val,\n",
        "\t\t\t\t\t\t\t\t\t\t\t\t\t\tsp_pos=sp_pos_val,\n",
        "\t\t\t\t\t\t\t\t\t\t\t\t\t\tword_ids_sn=word_ids_sn_val,\n",
        "\t\t\t\t\t\t\t\t\t\t\t\t\t\tword_ids_sp=word_ids_sp_val,\n",
        "\t\t\t\t\t\t\t\t\t\t\t\t\t\tsp_fix_dur=sp_fix_dur_val,\n",
        "\t\t\t\t\t\t\t\t\t\t\t\t\t\tsp_landing_pos=sp_landing_pos_val,\n",
        "\t\t\t\t\t\t\t\t\t\t\t\t\t\tsn_word_len = sn_word_len_val,\n",
        "\t\t\t\t\t\t\t\t\t\t\t\t\t\tsn_word_freq= None,\n",
        "\t\t\t\t\t\t\t\t\t\t\t      sn_pred = None)#[batch, step, dec_o_dim]\n",
        "\t\t\t\t\tlocation_preds_val = location_preds_val.permute(0,2,1)              #[batch, dec_o_dim, step\n",
        "\n",
        "\t\t\t\t\t# Compute location prediction error\n",
        "\t\t\t\t\tloss = nn.CrossEntropyLoss(reduction=\"none\")\n",
        "\t\t\t\t\tpad_mask_val, label_val = load_label(sp_pos_val, cf, le, device)\n",
        "\t\t\t\t\tlocation_error_val = torch.mean(torch.masked_select(loss(location_preds_val, label_val), ~pad_mask_val))\n",
        "\t\t\t\t\tlocation_val_loss.append(location_error_val.detach().to('cpu').numpy())\n",
        "\n",
        "\t\t\t\t\t# Compute duration prediction error\n",
        "\t\t\t\t\tduration_labels_val = sp_fix_dur_val[:, :51] # Adjust duration_labels to match the sequence length of duration_preds\n",
        "\t\t\t\t\tduration_preds_val = duration_preds_val.squeeze(-1)\n",
        "\t\t\t\t\tdur_loss = nn.MSELoss(reduction=\"none\")\n",
        "\t\t\t\t\tduration_error_val = torch.mean(dur_loss(duration_preds_val, duration_labels_val))\n",
        "\t\t\t\t\tduration_val_loss.append(duration_error_val.detach().to('cpu').numpy())\n",
        "\n",
        "\t\t\t\t\t# Compute loss for landing position\n",
        "\t\t\t\t\tlanding_pos_labels_val = sp_landing_pos_val[:, :51] # Adjust duration_labels to match the sequence length of duration_preds\n",
        "\t\t\t\t\tlanding_pos_preds_val = landing_pos_preds_val.squeeze(-1)  # Remove extra dimension (from [256, 39, 1] to [256, 39])\n",
        "\t\t\t\t\tland_pos_error_val = torch.mean(land_pos_loss(landing_pos_preds_val, landing_pos_labels_val))\n",
        "\t\t\t\t\tland_pos_val_loss.append(land_pos_error_val.detach().to('cpu').numpy())\n",
        "\n",
        "\t\t\t\t\tcombined_loss = location_error_val + duration_error_val + land_pos_error_val\n",
        "\t\t\t\t\tval_loss.append(combined_loss.detach().to('cpu').numpy())\n",
        "\n",
        "\t\t\tprint('\\nValidation loss for locations {} \\n'.format(np.mean(location_val_loss)))\n",
        "\t\t\tprint('\\nValidation loss for duration {} \\n'.format(np.mean(duration_val_loss)))\n",
        "\t\t\tprint('\\nValidation loss for landing position {} \\n'.format(np.mean(land_pos_val_loss)))\n",
        "\t\t\tloss_dict['val_loss'].append(np.mean(val_loss))\n",
        "\n",
        "\t\t\tif np.mean(val_loss) < old_score:\n",
        "\t\t\t\t# save model if val loss is smallest\n",
        "\t\t\t\ttorch.save(dnn.state_dict(), '{}/CELER_Eyettention_Reader_{}_{}.pth'.format(save_data_folder, cf[\"subid_emb_size\"], fold_indx))\n",
        "\t\t\t\told_score = np.mean(val_loss)\n",
        "\t\t\t\tprint('\\nsaved model state dict\\n')\n",
        "\t\t\t\tsave_ep_couter = episode_i\n",
        "\t\t\telse:\n",
        "\t\t\t\t#early stopping\n",
        "\t\t\t\tif episode_i - save_ep_couter >= cf[\"earlystop_patience\"]:\n",
        "\t\t\t\t\tbreak\n",
        "\t\tfold_indx += 1\n",
        "\n",
        "\t\t#evaluation\n",
        "\t\tdnn.eval()\n",
        "\t\tres_llh=[]\n",
        "\t\tres_mse_dur = []\n",
        "\t\tres_mse_land_pos = []\n",
        "\t\tres_central_scasim_human = []\n",
        "\t\tres_central_scasim_dnn = []\n",
        "\t\tres_scasim_human = []\n",
        "\t\tres_scasim_dnn = []\n",
        "\t\tdnn.load_state_dict(torch.load(os.path.join(save_data_folder, f'CELER_Eyettention_Reader_{cf[\"subid_emb_size\"]}_{fold_indx}.pth'), map_location='cpu'))\n",
        "\t\tdnn.to(device)\n",
        "\t\tbatch_indx = 0\n",
        "\t\tfor batchh in test_dataloaderr:\n",
        "\t\t\twith torch.no_grad():\n",
        "\t\t\t\tsn_ids_test = batchh[\"sn_ids\"].to(device)\n",
        "\t\t\t\tsn_input_ids_test = batchh[\"sn_input_ids\"].to(device)\n",
        "\t\t\t\tsn_attention_mask_test = batchh[\"sn_attention_mask\"].to(device)\n",
        "\t\t\t\tword_ids_sn_test = batchh[\"word_ids_sn\"].to(device)\n",
        "\t\t\t\tsn_word_len_test = batchh[\"sn_word_len\"].to(device)\n",
        "\n",
        "\t\t\t\tsp_input_ids_test = batchh[\"sp_input_ids\"].to(device)\n",
        "\t\t\t\tsp_attention_mask_test = batchh[\"sp_attention_mask\"].to(device)\n",
        "\t\t\t\tword_ids_sp_test = batchh[\"word_ids_sp\"].to(device)\n",
        "\n",
        "\t\t\t\tsp_pos_test = batchh[\"sp_pos\"].to(device) # 28: '<Sep>', 29: '<'Pad'>'\n",
        "\t\t\t\tsp_landing_pos_test = batchh[\"sp_landing_pos\"].to(device)\n",
        "\t\t\t\tsp_fix_dur_test = (batchh[\"sp_fix_dur\"]/1000).to(device)\n",
        "\t\t\t\tsub_id_test = batchh[\"sub_id\"].to(device)\n",
        "\n",
        "\t\t\t\t#normalize gaze features\n",
        "\t\t\t\tmask = ~torch.eq(sp_fix_dur_test, 0)\n",
        "\t\t\t\tsp_fix_dur_test = (sp_fix_dur_test-fix_dur_mean)/fix_dur_std * mask\n",
        "\t\t\t\tsp_landing_pos_test = (sp_landing_pos_test - landing_pos_mean)/landing_pos_std * mask\n",
        "\t\t\t\tsp_fix_dur_test = torch.nan_to_num(sp_fix_dur_test)\n",
        "\t\t\t\tsp_landing_pos_test = torch.nan_to_num(sp_landing_pos_test)\n",
        "\t\t\t\tsn_word_len_test = (sn_word_len_test - sn_word_len_mean)/sn_word_len_std\n",
        "\t\t\t\tsn_word_len_test = torch.nan_to_num(sn_word_len_test)\n",
        "\n",
        "\t\t\t\tlocation_preds_test, duration_preds_test, landing_pos_preds_test, atten_weights_test = dnn(sn_emd=sn_input_ids_test,\n",
        "\t\t\t\t\t\t\t\t\t\t\t\t\t\tsn_mask=sn_attention_mask_test,\n",
        "\t\t\t\t\t\t\t\t\t\t\t\t\t\tsp_emd=sp_input_ids_test,\n",
        "\t\t\t\t\t\t\t\t\t\t\t\t\t\tsp_pos=sp_pos_test,\n",
        "\t\t\t\t\t\t\t\t\t\t\t\t\t\tword_ids_sn=word_ids_sn_test,\n",
        "\t\t\t\t\t\t\t\t\t\t\t\t\t\tword_ids_sp=word_ids_sp_test,\n",
        "\t\t\t\t\t\t\t\t\t\t\t\t\t\tsp_fix_dur=sp_fix_dur_test,\n",
        "\t\t\t\t\t\t\t\t\t\t\t\t\t\tsp_landing_pos=sp_landing_pos_test,\n",
        "\t\t\t\t\t\t\t\t\t\t\t\t\t\tsn_word_len = sn_word_len_test,\n",
        "\t\t\t\t\t\t\t\t\t\t\t\t\t\tsub_id = sub_id_test) #[batch, step, dec_o_dim]\n",
        "\n",
        "\n",
        "\t\t\t\t########## Evaluate location predictions ##########\n",
        "\t\t\t\tm = nn.Softmax(dim=2)\n",
        "\t\t\t\tlocation_preds_test = m(location_preds_test).detach().to('cpu').numpy()\n",
        "\t\t\t\t#prepare label and mask\n",
        "\t\t\t\tpad_mask_test, label_test = load_label(sp_pos_test, cf, le, 'cpu')\n",
        "\n",
        "\t\t\t\t#compute log likelihood for the batch samples\n",
        "\t\t\t\tres_batch = eval_log_llh(location_preds_test, label_test, pad_mask_test)\n",
        "\t\t\t\tres_llh.append(np.array(res_batch))\n",
        "\n",
        "\t\t\t\tprint(\"######### Eyettention 2.0 model evaluation ##########\")\n",
        "\t\t\t\tduration_preds_test = duration_preds_test.squeeze(-1)\n",
        "\t\t\t\tduration_labels_test = sp_fix_dur_test[:, :51]\n",
        "\t\t\t\ttest_mask = mask[:, :51]\n",
        "\t\t\t\tmse_dur = eval_mse(duration_preds_test, duration_labels_test, test_mask)\n",
        "\t\t\t\tprint(\"MSE for durations\", np.mean(mse_dur))\n",
        "\t\t\t\tres_mse_dur.append(np.array(mse_dur))\n",
        "\n",
        "\t\t\t\tlanding_pos_preds_test = landing_pos_preds_test.squeeze(-1)\n",
        "\t\t\t\tlanding_pos_labels_test = sp_landing_pos_test[:, :51]\n",
        "\t\t\t\tmse_landing_pos = eval_mse(landing_pos_preds_test, landing_pos_labels_test, test_mask)\n",
        "\t\t\t\tprint(\"MSE for landing positions\", np.mean(mse_landing_pos))\n",
        "\t\t\t\tres_mse_land_pos.append(np.array(mse_landing_pos))\n",
        "\n",
        "\t\t\t\tif bool(scanpath_gen_flag) == True:\n",
        "\t\t\t\t\tsn_len = (torch.max(torch.nan_to_num(word_ids_sn_test), dim=1)[0]+1-2).detach().to('cpu').numpy()\n",
        "\t\t\t\t\t# compute the scan path generated from the model when the first CLS token is given\n",
        "\t\t\t\t\tsp_dnn, _, dur_dnn, land_pos_dnn = dnn.scanpath_generation(sn_emd=sn_input_ids_test,\n",
        "\t\t\t\t\t\t\t\t\t\t\t\t\t\t sn_mask=sn_attention_mask_test,\n",
        "\t\t\t\t\t\t\t\t\t\t\t\t\t\t word_ids_sn=word_ids_sn_test,\n",
        "\t\t\t\t\t\t\t\t\t\t\t\t\t\t sn_word_len = sn_word_len_test,\n",
        "\t\t\t\t\t\t\t\t\t\t\t\t\t\t le=le,\n",
        "                             sp_fix_dur=sp_fix_dur_test,\n",
        "\t\t\t\t\t\t\t\t\t\t\t\t\t\t sp_landing_pos = sp_landing_pos_test,\n",
        "\t\t\t\t\t\t\t\t\t\t\t\t\t\t sub_id = sub_id_test,\n",
        "\t\t\t\t\t\t\t\t\t\t\t\t\t\t max_pred_len=cf['max_pred_len'])\n",
        "\n",
        "\n",
        "\t\t\t\t\tsp_dnn, sp_human = prepare_scanpath(sp_dnn.detach().to('cpu').numpy(),\n",
        "                                              dur_dnn.detach().to('cpu').numpy(),\n",
        "\t\t\t\t\t\t\t\t\t\t\t\t\t\t\t\t\t\t\t\t\t\t\tland_pos_dnn.detach().to('cpu').numpy(), sn_len, sp_pos_test,\n",
        "                                              sp_fix_dur_test, sp_landing_pos_test, cf, sn_ids_test, fix_dur_mean, fix_dur_std, landing_pos_mean, landing_pos_std)\n",
        "\n",
        "\t\t\t\t\tsp_dnn_list.extend(sp_dnn)\n",
        "\t\t\t\t\tsp_human_list.extend(sp_human)\n",
        "\n",
        "\t\t\t\t\t# filter out the sent that were read only by 1 subj --> no sp to compare with\n",
        "\t\t\t\t\tsp_dnn = filter_sp(sp_dnn)\n",
        "\t\t\t\t\tsp_human = filter_sp(sp_human)\n",
        "\n",
        "\t\t\t\t\tif len(sp_dnn[\"sent_id\"]) != 0:\n",
        "\t\t\t\t\t\t# evaluate only on sent that were read by multiple subjects\n",
        "\t\t\t\t\t\tsp_dnn = convert_sp_to_lists(sp_dnn)\n",
        "\t\t\t\t\t\tsp_human = convert_sp_to_lists(sp_human)\n",
        "\t\t\t\t\t\tsp_human = modify_landing_pos(sp_human.copy())\n",
        "\t\t\t\t\t\tsp_dnn = modify_landing_pos(sp_dnn.copy())\n",
        "\t\t\t\t\t\trandom_sp = sample_random_sp(\"CELER\", sp_human, 'data_splits/CELER_sent_dict.txt')\n",
        "\t\t\t\t\t\trandom_sp = convert_sp_to_lists(random_sp)\n",
        "\t\t\t\t\t\trandom_sp = modify_landing_pos(random_sp.copy())\n",
        "\n",
        "\t\t\t\t\t\tscasim_scores_dnn = compute_scasim(sp_dnn, sp_human)\n",
        "\t\t\t\t\t\tres_scasim_dnn.append(scasim_scores_dnn)\n",
        "\t\t\t\t\t\tprint(\"Mean scasim dnn\", np.mean(scasim_scores_dnn))\n",
        "\t\t\t\t\t\tscasim_scores_human = compute_scasim(sp_human, random_sp)\n",
        "\t\t\t\t\t\tres_scasim_human.append(scasim_scores_human)\n",
        "\t\t\t\t\t\tprint(\"Mean scasim human\", np.mean(scasim_scores_human))\n",
        "\n",
        "\t\t\t\t\t\tcentral_scasim_scores_dnn = compute_central_scasim(\"CELER_most_central_sp.txt\", sp_dnn, 'data_splits/CELER_sent_dict.txt')\n",
        "\t\t\t\t\t\tcentral_scasim_scores_human = compute_central_scasim(\"CELER_most_central_sp.txt\", sp_human, 'data_splits/CELER_sent_dict.txt')\n",
        "\t\t\t\t\t\tres_central_scasim_dnn.append(np.array(central_scasim_scores_dnn))\n",
        "\t\t\t\t\t\tres_central_scasim_human.append(np.array(central_scasim_scores_human))\n",
        "\t\t\t\t\t\tprint(\"Mean central scasim dnn\", np.mean(central_scasim_scores_dnn))\n",
        "\t\t\t\t\t\tprint(\"Mean central scasim human\", np.mean(central_scasim_scores_human))\n",
        "\n",
        "\t\t\t\tbatch_indx +=1\n",
        "\n",
        "\t\tres_llh = np.concatenate(res_llh).ravel()\n",
        "\t\tloss_dict['test_ll'].append(res_llh)\n",
        "\t\tres_mse_dur = np.concatenate(res_mse_dur).ravel()\n",
        "\t\tloss_dict['test_mse_dur'].append(res_mse_dur)\n",
        "\t\tres_mse_land_pos = np.concatenate(res_mse_land_pos).ravel()\n",
        "\t\tloss_dict['test_mse_land_pos'].append(res_mse_land_pos)\n",
        "\n",
        "\t\tres_central_scasim_dnn = np.concatenate(res_central_scasim_dnn).ravel()\n",
        "\t\tloss_dict['central_scasim_dnn'].append(res_central_scasim_dnn)\n",
        "\t\tres_central_scasim_human = np.concatenate(res_central_scasim_human).ravel()\n",
        "\t\tloss_dict['central_scasim_human'].append(res_central_scasim_human)\n",
        "\t\tres_scasim_dnn = np.concatenate(res_scasim_dnn).ravel()\n",
        "\t\tloss_dict['scasim_dnn'].append(res_scasim_dnn)\n",
        "\t\tres_scasim_human = np.concatenate(res_scasim_human).ravel()\n",
        "\t\tloss_dict['scasim_human'].append(res_scasim_human)\n",
        "\n",
        "\t\tloss_dict['fix_dur_mean'] = fix_dur_mean\n",
        "\t\tloss_dict['fix_dur_std'] = fix_dur_std\n",
        "\t\tloss_dict['landing_pos_mean'] = landing_pos_mean\n",
        "\t\tloss_dict['landing_pos_std'] = landing_pos_std\n",
        "\t\tloss_dict['sn_word_len_mean'] = sn_word_len_mean\n",
        "\t\tloss_dict['sn_word_len_std'] = sn_word_len_std\n",
        "\n",
        "\t\tprint('Test likelihood is {}'.format(np.mean(res_llh)))\n",
        "\t\tloss_dict['test_ll_SE'].append(np.std(res_llh)/ np.sqrt(len(res_llh)))\n",
        "\t\tprint(\"Standard error for NLL\", np.std(res_llh)/ np.sqrt(len(res_llh)))\n",
        "\n",
        "\t\tprint('Test MSE for durations is {}'.format(np.mean(res_mse_dur)))\n",
        "\t\tloss_dict['test_mse_dur_SE'].append(np.std(res_mse_dur)/ np.sqrt(len(res_mse_dur)))\n",
        "\t\tprint(\"Standard error for MSE dur\", np.std(res_mse_dur) / np.sqrt(len(res_mse_dur)))\n",
        "\n",
        "\t\tprint('Test MSE for landing positions is {}'.format(np.mean(res_mse_land_pos)))\n",
        "\t\tloss_dict['test_mse_land_pos_SE'].append(np.std(res_mse_land_pos)/ np.sqrt(len(res_mse_land_pos)))\n",
        "\t\tprint(\"Standard error for MSE land pos\", np.std(res_mse_land_pos) / np.sqrt(len(res_mse_land_pos)))\n",
        "\n",
        "\t\tprint(\"Central Scasim dnn\", np.mean(loss_dict['central_scasim_dnn']))\n",
        "\t\tloss_dict['central_scasim_dnn_SE'].append(np.std(res_central_scasim_dnn)/ np.sqrt(len(res_central_scasim_dnn)))\n",
        "\t\tprint(\"Standard error for Central scasim DNN\", np.std(res_central_scasim_dnn) / np.sqrt(len(res_central_scasim_dnn)))\n",
        "\n",
        "\t\tprint(\"Central Scasim human\", np.mean(loss_dict['central_scasim_human']))\n",
        "\t\tloss_dict['central_scasim_human_SE'].append(np.std(res_central_scasim_human)/ np.sqrt(len(res_central_scasim_human)))\n",
        "\t\tprint(\"Standard error for Central scasim human\", np.std(res_central_scasim_human) / np.sqrt(len(res_central_scasim_human)))\n",
        "\n",
        "\t\tprint(\"Scasim dnn\", np.mean(loss_dict['scasim_dnn']))\n",
        "\t\tloss_dict['scasim_dnn_SE'].append(np.std(res_scasim_dnn)/ np.sqrt(len(res_scasim_dnn)))\n",
        "\t\tprint(\"Standard error for scasim dnn\", np.std(res_scasim_dnn) / np.sqrt(len(res_scasim_dnn)))\n",
        "\n",
        "\t\tprint(\"Scasim human\", np.mean(loss_dict['scasim_human']))\n",
        "\t\tloss_dict['scasim_human_SE'].append(np.std(res_scasim_human)/ np.sqrt(len(res_scasim_human)))\n",
        "\t\tprint(\"Standard error for scasim human\", np.std(res_scasim_human) / np.sqrt(len(res_scasim_human)))\n",
        "\n",
        "\t\t#save results\n",
        "\t\twith open('{}/res_celer_eyettention_reader_Fold{}.pickle'.format(save_data_folder, fold_indx), 'wb') as handle:\n",
        "\t\t\tpickle.dump(loss_dict, handle, protocol=pickle.HIGHEST_PROTOCOL)\n",
        "\t\tfold_indx += 1\n"
      ]
    },
    {
      "cell_type": "code",
      "source": [
        "import pickle\n",
        "import numpy as np\n",
        "\n",
        "# Analysing the results\n",
        "test_ll_all_folds = []\n",
        "test_mse_dur_all_folds = []\n",
        "test_mse_land_pos_all_folds = []\n",
        "scasim_dnn_all_folds = []\n",
        "scasim_human_all_folds = []\n",
        "central_scasim_dnn_all_folds = []\n",
        "central_scasim_human_all_folds = []\n",
        "\n",
        "fold_index = 0\n",
        "for i in range(5):\n",
        "  with open(f'drive/MyDrive/results/celer/Eyettention_Reader/emb_size_16/res_celer_eyettention_reader_Fold{fold_index}.pickle', 'rb') as original:\n",
        "      reader_results = pickle.load(original)\n",
        "      test_ll_all_folds.extend(reader_results['test_ll'][0])\n",
        "      test_mse_dur_all_folds.extend(reader_results['test_mse_dur'][0])\n",
        "      test_mse_land_pos_all_folds.extend(reader_results['test_mse_land_pos'][0])\n",
        "      scasim_dnn_all_folds.extend(reader_results['scasim_dnn'][0])\n",
        "      scasim_human_all_folds.extend(reader_results['scasim_human'][0])\n",
        "      central_scasim_dnn_all_folds.extend(reader_results['central_scasim_dnn'][0])\n",
        "      central_scasim_human_all_folds.extend(reader_results['central_scasim_human'][0])\n",
        "\n",
        "      fold_index += 1\n",
        "\n",
        "# Calculate overall statistics\n",
        "def calculate_mean_and_se(values):\n",
        "    mean_val = np.mean(values)\n",
        "    se_val = np.std(values) / np.sqrt(len(values))\n",
        "    return mean_val, se_val\n",
        "\n",
        "mean_nll, se_nll = calculate_mean_and_se(test_ll_all_folds)\n",
        "mean_mse_dur, se_mse_dur = calculate_mean_and_se(test_mse_dur_all_folds)\n",
        "mean_mse_land_pos, se_mse_land_pos = calculate_mean_and_se(test_mse_land_pos_all_folds)\n",
        "mean_scasim, se_scasim = calculate_mean_and_se(scasim_dnn_all_folds)\n",
        "mean_central_scasim, se_central_scasim = calculate_mean_and_se(central_scasim_dnn_all_folds)\n",
        "mean_scasim_human, se_scasim_human = calculate_mean_and_se(scasim_human_all_folds)\n",
        "mean_central_scasim_human, se_central_scasim_human = calculate_mean_and_se(central_scasim_human_all_folds)\n",
        "\n",
        "\n",
        "print(\"Overall Mean NLL:\", mean_nll)\n",
        "print(\"Overall Standard error NLL:\", se_nll)\n",
        "\n",
        "print(\"Overall Mean MSE dur:\", mean_mse_dur)\n",
        "print(\"Overall Standard error MSE dur:\", se_mse_dur)\n",
        "\n",
        "print(\"Overall Mean MSE landing pos:\", mean_mse_land_pos)\n",
        "print(\"Overall Standard error MSE landing pos:\", se_mse_land_pos)\n",
        "\n",
        "print(\"Overall Mean scasim:\", mean_scasim)\n",
        "print(\"Overall Standard error scasim:\", se_scasim)\n",
        "\n",
        "print(\"Overall Mean Central scasim:\", mean_central_scasim)\n",
        "print(\"Overall Standard error Central scasim:\", se_central_scasim)\n",
        "\n",
        "print(\"Human Mean scasim:\", mean_scasim_human)\n",
        "print(\"Human Standard error scasim:\", se_scasim_human)\n",
        "\n",
        "print(\"Human Mean central scasim:\", mean_central_scasim_human)\n",
        "print(\"Human Standard error central scasim:\", se_central_scasim_human)"
      ],
      "metadata": {
        "colab": {
          "base_uri": "https://localhost:8080/"
        },
        "id": "Nq08YmMEWvdu",
        "outputId": "d1cbd562-9cb2-411e-e667-4ad3b0c91b97"
      },
      "id": "Nq08YmMEWvdu",
      "execution_count": null,
      "outputs": [
        {
          "output_type": "stream",
          "name": "stdout",
          "text": [
            "Overall Mean NLL: -2.071792364166628\n",
            "Overall Standard error NLL: 0.005482316796179161\n",
            "Overall Mean MSE dur: 0.08326492729811254\n",
            "Overall Standard error MSE dur: 0.006335470553321203\n",
            "Overall Mean MSE landing pos: 0.03714009343065878\n",
            "Overall Standard error MSE landing pos: 0.0008594841354853508\n",
            "Overall Mean scasim: 2589.3579715568862\n",
            "Overall Standard error scasim: 23.332454805542497\n",
            "Overall Mean Central scasim: 2017.1152694610778\n",
            "Overall Standard error Central scasim: 20.199070281401635\n",
            "Human Mean scasim: 3074.4146706586826\n",
            "Human Standard error scasim: 27.123257024738148\n",
            "Human Mean central scasim: 1961.3083832335328\n",
            "Human Standard error central scasim: 19.73738350594621\n"
          ]
        }
      ]
    }
  ],
  "metadata": {
    "colab": {
      "provenance": [],
      "toc_visible": true
    },
    "kernelspec": {
      "display_name": "Python 3",
      "name": "python3"
    },
    "language_info": {
      "codemirror_mode": {
        "name": "ipython",
        "version": 3
      },
      "file_extension": ".py",
      "mimetype": "text/x-python",
      "name": "python",
      "nbconvert_exporter": "python",
      "pygments_lexer": "ipython3",
      "version": "3.11.5"
    },
    "widgets": {
      "application/vnd.jupyter.widget-state+json": {
        "2023940614b44e60a6527c97c2f4c0ff": {
          "model_module": "@jupyter-widgets/controls",
          "model_name": "HBoxModel",
          "model_module_version": "1.5.0",
          "state": {
            "_dom_classes": [],
            "_model_module": "@jupyter-widgets/controls",
            "_model_module_version": "1.5.0",
            "_model_name": "HBoxModel",
            "_view_count": null,
            "_view_module": "@jupyter-widgets/controls",
            "_view_module_version": "1.5.0",
            "_view_name": "HBoxView",
            "box_style": "",
            "children": [
              "IPY_MODEL_59555773a6e347d0ae7f53587fee406f",
              "IPY_MODEL_2aae6b138b1b441e8b5a4642f2ed75f3",
              "IPY_MODEL_d37b2bb56ab44ace9c095de05ad8071a"
            ],
            "layout": "IPY_MODEL_84a8e1305db74c7b8e7803d08eb8bb4c"
          }
        },
        "59555773a6e347d0ae7f53587fee406f": {
          "model_module": "@jupyter-widgets/controls",
          "model_name": "HTMLModel",
          "model_module_version": "1.5.0",
          "state": {
            "_dom_classes": [],
            "_model_module": "@jupyter-widgets/controls",
            "_model_module_version": "1.5.0",
            "_model_name": "HTMLModel",
            "_view_count": null,
            "_view_module": "@jupyter-widgets/controls",
            "_view_module_version": "1.5.0",
            "_view_name": "HTMLView",
            "description": "",
            "description_tooltip": null,
            "layout": "IPY_MODEL_3e190c04aa0a4e7896b3f4dfd4b65650",
            "placeholder": "​",
            "style": "IPY_MODEL_8a14f9c652e045338eea89b1079c5167",
            "value": "tokenizer_config.json: 100%"
          }
        },
        "2aae6b138b1b441e8b5a4642f2ed75f3": {
          "model_module": "@jupyter-widgets/controls",
          "model_name": "FloatProgressModel",
          "model_module_version": "1.5.0",
          "state": {
            "_dom_classes": [],
            "_model_module": "@jupyter-widgets/controls",
            "_model_module_version": "1.5.0",
            "_model_name": "FloatProgressModel",
            "_view_count": null,
            "_view_module": "@jupyter-widgets/controls",
            "_view_module_version": "1.5.0",
            "_view_name": "ProgressView",
            "bar_style": "success",
            "description": "",
            "description_tooltip": null,
            "layout": "IPY_MODEL_4e00aee1b17c4a49a9fc534a4217ad00",
            "max": 49,
            "min": 0,
            "orientation": "horizontal",
            "style": "IPY_MODEL_b8d3a4edb841454fac79fa5ef8ac8e1e",
            "value": 49
          }
        },
        "d37b2bb56ab44ace9c095de05ad8071a": {
          "model_module": "@jupyter-widgets/controls",
          "model_name": "HTMLModel",
          "model_module_version": "1.5.0",
          "state": {
            "_dom_classes": [],
            "_model_module": "@jupyter-widgets/controls",
            "_model_module_version": "1.5.0",
            "_model_name": "HTMLModel",
            "_view_count": null,
            "_view_module": "@jupyter-widgets/controls",
            "_view_module_version": "1.5.0",
            "_view_name": "HTMLView",
            "description": "",
            "description_tooltip": null,
            "layout": "IPY_MODEL_755b4c52f7ff4e24aa00e480c9fc2c05",
            "placeholder": "​",
            "style": "IPY_MODEL_c9378fcef7a24808b9d52f2e3bd5750d",
            "value": " 49.0/49.0 [00:00&lt;00:00, 2.73kB/s]"
          }
        },
        "84a8e1305db74c7b8e7803d08eb8bb4c": {
          "model_module": "@jupyter-widgets/base",
          "model_name": "LayoutModel",
          "model_module_version": "1.2.0",
          "state": {
            "_model_module": "@jupyter-widgets/base",
            "_model_module_version": "1.2.0",
            "_model_name": "LayoutModel",
            "_view_count": null,
            "_view_module": "@jupyter-widgets/base",
            "_view_module_version": "1.2.0",
            "_view_name": "LayoutView",
            "align_content": null,
            "align_items": null,
            "align_self": null,
            "border": null,
            "bottom": null,
            "display": null,
            "flex": null,
            "flex_flow": null,
            "grid_area": null,
            "grid_auto_columns": null,
            "grid_auto_flow": null,
            "grid_auto_rows": null,
            "grid_column": null,
            "grid_gap": null,
            "grid_row": null,
            "grid_template_areas": null,
            "grid_template_columns": null,
            "grid_template_rows": null,
            "height": null,
            "justify_content": null,
            "justify_items": null,
            "left": null,
            "margin": null,
            "max_height": null,
            "max_width": null,
            "min_height": null,
            "min_width": null,
            "object_fit": null,
            "object_position": null,
            "order": null,
            "overflow": null,
            "overflow_x": null,
            "overflow_y": null,
            "padding": null,
            "right": null,
            "top": null,
            "visibility": null,
            "width": null
          }
        },
        "3e190c04aa0a4e7896b3f4dfd4b65650": {
          "model_module": "@jupyter-widgets/base",
          "model_name": "LayoutModel",
          "model_module_version": "1.2.0",
          "state": {
            "_model_module": "@jupyter-widgets/base",
            "_model_module_version": "1.2.0",
            "_model_name": "LayoutModel",
            "_view_count": null,
            "_view_module": "@jupyter-widgets/base",
            "_view_module_version": "1.2.0",
            "_view_name": "LayoutView",
            "align_content": null,
            "align_items": null,
            "align_self": null,
            "border": null,
            "bottom": null,
            "display": null,
            "flex": null,
            "flex_flow": null,
            "grid_area": null,
            "grid_auto_columns": null,
            "grid_auto_flow": null,
            "grid_auto_rows": null,
            "grid_column": null,
            "grid_gap": null,
            "grid_row": null,
            "grid_template_areas": null,
            "grid_template_columns": null,
            "grid_template_rows": null,
            "height": null,
            "justify_content": null,
            "justify_items": null,
            "left": null,
            "margin": null,
            "max_height": null,
            "max_width": null,
            "min_height": null,
            "min_width": null,
            "object_fit": null,
            "object_position": null,
            "order": null,
            "overflow": null,
            "overflow_x": null,
            "overflow_y": null,
            "padding": null,
            "right": null,
            "top": null,
            "visibility": null,
            "width": null
          }
        },
        "8a14f9c652e045338eea89b1079c5167": {
          "model_module": "@jupyter-widgets/controls",
          "model_name": "DescriptionStyleModel",
          "model_module_version": "1.5.0",
          "state": {
            "_model_module": "@jupyter-widgets/controls",
            "_model_module_version": "1.5.0",
            "_model_name": "DescriptionStyleModel",
            "_view_count": null,
            "_view_module": "@jupyter-widgets/base",
            "_view_module_version": "1.2.0",
            "_view_name": "StyleView",
            "description_width": ""
          }
        },
        "4e00aee1b17c4a49a9fc534a4217ad00": {
          "model_module": "@jupyter-widgets/base",
          "model_name": "LayoutModel",
          "model_module_version": "1.2.0",
          "state": {
            "_model_module": "@jupyter-widgets/base",
            "_model_module_version": "1.2.0",
            "_model_name": "LayoutModel",
            "_view_count": null,
            "_view_module": "@jupyter-widgets/base",
            "_view_module_version": "1.2.0",
            "_view_name": "LayoutView",
            "align_content": null,
            "align_items": null,
            "align_self": null,
            "border": null,
            "bottom": null,
            "display": null,
            "flex": null,
            "flex_flow": null,
            "grid_area": null,
            "grid_auto_columns": null,
            "grid_auto_flow": null,
            "grid_auto_rows": null,
            "grid_column": null,
            "grid_gap": null,
            "grid_row": null,
            "grid_template_areas": null,
            "grid_template_columns": null,
            "grid_template_rows": null,
            "height": null,
            "justify_content": null,
            "justify_items": null,
            "left": null,
            "margin": null,
            "max_height": null,
            "max_width": null,
            "min_height": null,
            "min_width": null,
            "object_fit": null,
            "object_position": null,
            "order": null,
            "overflow": null,
            "overflow_x": null,
            "overflow_y": null,
            "padding": null,
            "right": null,
            "top": null,
            "visibility": null,
            "width": null
          }
        },
        "b8d3a4edb841454fac79fa5ef8ac8e1e": {
          "model_module": "@jupyter-widgets/controls",
          "model_name": "ProgressStyleModel",
          "model_module_version": "1.5.0",
          "state": {
            "_model_module": "@jupyter-widgets/controls",
            "_model_module_version": "1.5.0",
            "_model_name": "ProgressStyleModel",
            "_view_count": null,
            "_view_module": "@jupyter-widgets/base",
            "_view_module_version": "1.2.0",
            "_view_name": "StyleView",
            "bar_color": null,
            "description_width": ""
          }
        },
        "755b4c52f7ff4e24aa00e480c9fc2c05": {
          "model_module": "@jupyter-widgets/base",
          "model_name": "LayoutModel",
          "model_module_version": "1.2.0",
          "state": {
            "_model_module": "@jupyter-widgets/base",
            "_model_module_version": "1.2.0",
            "_model_name": "LayoutModel",
            "_view_count": null,
            "_view_module": "@jupyter-widgets/base",
            "_view_module_version": "1.2.0",
            "_view_name": "LayoutView",
            "align_content": null,
            "align_items": null,
            "align_self": null,
            "border": null,
            "bottom": null,
            "display": null,
            "flex": null,
            "flex_flow": null,
            "grid_area": null,
            "grid_auto_columns": null,
            "grid_auto_flow": null,
            "grid_auto_rows": null,
            "grid_column": null,
            "grid_gap": null,
            "grid_row": null,
            "grid_template_areas": null,
            "grid_template_columns": null,
            "grid_template_rows": null,
            "height": null,
            "justify_content": null,
            "justify_items": null,
            "left": null,
            "margin": null,
            "max_height": null,
            "max_width": null,
            "min_height": null,
            "min_width": null,
            "object_fit": null,
            "object_position": null,
            "order": null,
            "overflow": null,
            "overflow_x": null,
            "overflow_y": null,
            "padding": null,
            "right": null,
            "top": null,
            "visibility": null,
            "width": null
          }
        },
        "c9378fcef7a24808b9d52f2e3bd5750d": {
          "model_module": "@jupyter-widgets/controls",
          "model_name": "DescriptionStyleModel",
          "model_module_version": "1.5.0",
          "state": {
            "_model_module": "@jupyter-widgets/controls",
            "_model_module_version": "1.5.0",
            "_model_name": "DescriptionStyleModel",
            "_view_count": null,
            "_view_module": "@jupyter-widgets/base",
            "_view_module_version": "1.2.0",
            "_view_name": "StyleView",
            "description_width": ""
          }
        },
        "7ada4e436f954502ac8cd78d5e64ab24": {
          "model_module": "@jupyter-widgets/controls",
          "model_name": "HBoxModel",
          "model_module_version": "1.5.0",
          "state": {
            "_dom_classes": [],
            "_model_module": "@jupyter-widgets/controls",
            "_model_module_version": "1.5.0",
            "_model_name": "HBoxModel",
            "_view_count": null,
            "_view_module": "@jupyter-widgets/controls",
            "_view_module_version": "1.5.0",
            "_view_name": "HBoxView",
            "box_style": "",
            "children": [
              "IPY_MODEL_12fa12ad9db44520a9a2da89cb9bd0e4",
              "IPY_MODEL_ccdf56cee338450f9cfd587f611f716f",
              "IPY_MODEL_d553423c5b9a4aef94909bd67f47d0c9"
            ],
            "layout": "IPY_MODEL_3f8c9f1a633f4d56b40976f56242c6f9"
          }
        },
        "12fa12ad9db44520a9a2da89cb9bd0e4": {
          "model_module": "@jupyter-widgets/controls",
          "model_name": "HTMLModel",
          "model_module_version": "1.5.0",
          "state": {
            "_dom_classes": [],
            "_model_module": "@jupyter-widgets/controls",
            "_model_module_version": "1.5.0",
            "_model_name": "HTMLModel",
            "_view_count": null,
            "_view_module": "@jupyter-widgets/controls",
            "_view_module_version": "1.5.0",
            "_view_name": "HTMLView",
            "description": "",
            "description_tooltip": null,
            "layout": "IPY_MODEL_f109e8aeff34484d911606d74d0eed45",
            "placeholder": "​",
            "style": "IPY_MODEL_16fc88f71bdd484698c35cdd78faef8f",
            "value": "vocab.txt: 100%"
          }
        },
        "ccdf56cee338450f9cfd587f611f716f": {
          "model_module": "@jupyter-widgets/controls",
          "model_name": "FloatProgressModel",
          "model_module_version": "1.5.0",
          "state": {
            "_dom_classes": [],
            "_model_module": "@jupyter-widgets/controls",
            "_model_module_version": "1.5.0",
            "_model_name": "FloatProgressModel",
            "_view_count": null,
            "_view_module": "@jupyter-widgets/controls",
            "_view_module_version": "1.5.0",
            "_view_name": "ProgressView",
            "bar_style": "success",
            "description": "",
            "description_tooltip": null,
            "layout": "IPY_MODEL_4f94a47b767a44a9b069003c06fd0b75",
            "max": 213450,
            "min": 0,
            "orientation": "horizontal",
            "style": "IPY_MODEL_533efc7474a74dedb2df680c5936f39a",
            "value": 213450
          }
        },
        "d553423c5b9a4aef94909bd67f47d0c9": {
          "model_module": "@jupyter-widgets/controls",
          "model_name": "HTMLModel",
          "model_module_version": "1.5.0",
          "state": {
            "_dom_classes": [],
            "_model_module": "@jupyter-widgets/controls",
            "_model_module_version": "1.5.0",
            "_model_name": "HTMLModel",
            "_view_count": null,
            "_view_module": "@jupyter-widgets/controls",
            "_view_module_version": "1.5.0",
            "_view_name": "HTMLView",
            "description": "",
            "description_tooltip": null,
            "layout": "IPY_MODEL_4daa84cd60aa4344841f6a1fe513c29c",
            "placeholder": "​",
            "style": "IPY_MODEL_dc4d72a834d74f8aa40cf367501f8d03",
            "value": " 213k/213k [00:00&lt;00:00, 1.21MB/s]"
          }
        },
        "3f8c9f1a633f4d56b40976f56242c6f9": {
          "model_module": "@jupyter-widgets/base",
          "model_name": "LayoutModel",
          "model_module_version": "1.2.0",
          "state": {
            "_model_module": "@jupyter-widgets/base",
            "_model_module_version": "1.2.0",
            "_model_name": "LayoutModel",
            "_view_count": null,
            "_view_module": "@jupyter-widgets/base",
            "_view_module_version": "1.2.0",
            "_view_name": "LayoutView",
            "align_content": null,
            "align_items": null,
            "align_self": null,
            "border": null,
            "bottom": null,
            "display": null,
            "flex": null,
            "flex_flow": null,
            "grid_area": null,
            "grid_auto_columns": null,
            "grid_auto_flow": null,
            "grid_auto_rows": null,
            "grid_column": null,
            "grid_gap": null,
            "grid_row": null,
            "grid_template_areas": null,
            "grid_template_columns": null,
            "grid_template_rows": null,
            "height": null,
            "justify_content": null,
            "justify_items": null,
            "left": null,
            "margin": null,
            "max_height": null,
            "max_width": null,
            "min_height": null,
            "min_width": null,
            "object_fit": null,
            "object_position": null,
            "order": null,
            "overflow": null,
            "overflow_x": null,
            "overflow_y": null,
            "padding": null,
            "right": null,
            "top": null,
            "visibility": null,
            "width": null
          }
        },
        "f109e8aeff34484d911606d74d0eed45": {
          "model_module": "@jupyter-widgets/base",
          "model_name": "LayoutModel",
          "model_module_version": "1.2.0",
          "state": {
            "_model_module": "@jupyter-widgets/base",
            "_model_module_version": "1.2.0",
            "_model_name": "LayoutModel",
            "_view_count": null,
            "_view_module": "@jupyter-widgets/base",
            "_view_module_version": "1.2.0",
            "_view_name": "LayoutView",
            "align_content": null,
            "align_items": null,
            "align_self": null,
            "border": null,
            "bottom": null,
            "display": null,
            "flex": null,
            "flex_flow": null,
            "grid_area": null,
            "grid_auto_columns": null,
            "grid_auto_flow": null,
            "grid_auto_rows": null,
            "grid_column": null,
            "grid_gap": null,
            "grid_row": null,
            "grid_template_areas": null,
            "grid_template_columns": null,
            "grid_template_rows": null,
            "height": null,
            "justify_content": null,
            "justify_items": null,
            "left": null,
            "margin": null,
            "max_height": null,
            "max_width": null,
            "min_height": null,
            "min_width": null,
            "object_fit": null,
            "object_position": null,
            "order": null,
            "overflow": null,
            "overflow_x": null,
            "overflow_y": null,
            "padding": null,
            "right": null,
            "top": null,
            "visibility": null,
            "width": null
          }
        },
        "16fc88f71bdd484698c35cdd78faef8f": {
          "model_module": "@jupyter-widgets/controls",
          "model_name": "DescriptionStyleModel",
          "model_module_version": "1.5.0",
          "state": {
            "_model_module": "@jupyter-widgets/controls",
            "_model_module_version": "1.5.0",
            "_model_name": "DescriptionStyleModel",
            "_view_count": null,
            "_view_module": "@jupyter-widgets/base",
            "_view_module_version": "1.2.0",
            "_view_name": "StyleView",
            "description_width": ""
          }
        },
        "4f94a47b767a44a9b069003c06fd0b75": {
          "model_module": "@jupyter-widgets/base",
          "model_name": "LayoutModel",
          "model_module_version": "1.2.0",
          "state": {
            "_model_module": "@jupyter-widgets/base",
            "_model_module_version": "1.2.0",
            "_model_name": "LayoutModel",
            "_view_count": null,
            "_view_module": "@jupyter-widgets/base",
            "_view_module_version": "1.2.0",
            "_view_name": "LayoutView",
            "align_content": null,
            "align_items": null,
            "align_self": null,
            "border": null,
            "bottom": null,
            "display": null,
            "flex": null,
            "flex_flow": null,
            "grid_area": null,
            "grid_auto_columns": null,
            "grid_auto_flow": null,
            "grid_auto_rows": null,
            "grid_column": null,
            "grid_gap": null,
            "grid_row": null,
            "grid_template_areas": null,
            "grid_template_columns": null,
            "grid_template_rows": null,
            "height": null,
            "justify_content": null,
            "justify_items": null,
            "left": null,
            "margin": null,
            "max_height": null,
            "max_width": null,
            "min_height": null,
            "min_width": null,
            "object_fit": null,
            "object_position": null,
            "order": null,
            "overflow": null,
            "overflow_x": null,
            "overflow_y": null,
            "padding": null,
            "right": null,
            "top": null,
            "visibility": null,
            "width": null
          }
        },
        "533efc7474a74dedb2df680c5936f39a": {
          "model_module": "@jupyter-widgets/controls",
          "model_name": "ProgressStyleModel",
          "model_module_version": "1.5.0",
          "state": {
            "_model_module": "@jupyter-widgets/controls",
            "_model_module_version": "1.5.0",
            "_model_name": "ProgressStyleModel",
            "_view_count": null,
            "_view_module": "@jupyter-widgets/base",
            "_view_module_version": "1.2.0",
            "_view_name": "StyleView",
            "bar_color": null,
            "description_width": ""
          }
        },
        "4daa84cd60aa4344841f6a1fe513c29c": {
          "model_module": "@jupyter-widgets/base",
          "model_name": "LayoutModel",
          "model_module_version": "1.2.0",
          "state": {
            "_model_module": "@jupyter-widgets/base",
            "_model_module_version": "1.2.0",
            "_model_name": "LayoutModel",
            "_view_count": null,
            "_view_module": "@jupyter-widgets/base",
            "_view_module_version": "1.2.0",
            "_view_name": "LayoutView",
            "align_content": null,
            "align_items": null,
            "align_self": null,
            "border": null,
            "bottom": null,
            "display": null,
            "flex": null,
            "flex_flow": null,
            "grid_area": null,
            "grid_auto_columns": null,
            "grid_auto_flow": null,
            "grid_auto_rows": null,
            "grid_column": null,
            "grid_gap": null,
            "grid_row": null,
            "grid_template_areas": null,
            "grid_template_columns": null,
            "grid_template_rows": null,
            "height": null,
            "justify_content": null,
            "justify_items": null,
            "left": null,
            "margin": null,
            "max_height": null,
            "max_width": null,
            "min_height": null,
            "min_width": null,
            "object_fit": null,
            "object_position": null,
            "order": null,
            "overflow": null,
            "overflow_x": null,
            "overflow_y": null,
            "padding": null,
            "right": null,
            "top": null,
            "visibility": null,
            "width": null
          }
        },
        "dc4d72a834d74f8aa40cf367501f8d03": {
          "model_module": "@jupyter-widgets/controls",
          "model_name": "DescriptionStyleModel",
          "model_module_version": "1.5.0",
          "state": {
            "_model_module": "@jupyter-widgets/controls",
            "_model_module_version": "1.5.0",
            "_model_name": "DescriptionStyleModel",
            "_view_count": null,
            "_view_module": "@jupyter-widgets/base",
            "_view_module_version": "1.2.0",
            "_view_name": "StyleView",
            "description_width": ""
          }
        },
        "cd743c335a284f69bf213521d9689914": {
          "model_module": "@jupyter-widgets/controls",
          "model_name": "HBoxModel",
          "model_module_version": "1.5.0",
          "state": {
            "_dom_classes": [],
            "_model_module": "@jupyter-widgets/controls",
            "_model_module_version": "1.5.0",
            "_model_name": "HBoxModel",
            "_view_count": null,
            "_view_module": "@jupyter-widgets/controls",
            "_view_module_version": "1.5.0",
            "_view_name": "HBoxView",
            "box_style": "",
            "children": [
              "IPY_MODEL_698fe44baac447cabf29bcb0b1bf6a3f",
              "IPY_MODEL_3e58b0903c234777b3983ab592036dd7",
              "IPY_MODEL_6602f64846da4a33bba206abeb91cf45"
            ],
            "layout": "IPY_MODEL_3b578b3fe81a4763a7d5680166b3cf61"
          }
        },
        "698fe44baac447cabf29bcb0b1bf6a3f": {
          "model_module": "@jupyter-widgets/controls",
          "model_name": "HTMLModel",
          "model_module_version": "1.5.0",
          "state": {
            "_dom_classes": [],
            "_model_module": "@jupyter-widgets/controls",
            "_model_module_version": "1.5.0",
            "_model_name": "HTMLModel",
            "_view_count": null,
            "_view_module": "@jupyter-widgets/controls",
            "_view_module_version": "1.5.0",
            "_view_name": "HTMLView",
            "description": "",
            "description_tooltip": null,
            "layout": "IPY_MODEL_4f390062736a412b9e1405777aef5f88",
            "placeholder": "​",
            "style": "IPY_MODEL_28b921efa9aa4a2bb1ef53b907a40383",
            "value": "tokenizer.json: 100%"
          }
        },
        "3e58b0903c234777b3983ab592036dd7": {
          "model_module": "@jupyter-widgets/controls",
          "model_name": "FloatProgressModel",
          "model_module_version": "1.5.0",
          "state": {
            "_dom_classes": [],
            "_model_module": "@jupyter-widgets/controls",
            "_model_module_version": "1.5.0",
            "_model_name": "FloatProgressModel",
            "_view_count": null,
            "_view_module": "@jupyter-widgets/controls",
            "_view_module_version": "1.5.0",
            "_view_name": "ProgressView",
            "bar_style": "success",
            "description": "",
            "description_tooltip": null,
            "layout": "IPY_MODEL_03b79e588be04f4a826b0ebf7a1922c3",
            "max": 435797,
            "min": 0,
            "orientation": "horizontal",
            "style": "IPY_MODEL_f487f1ab53c24663a98109e52d63ce3d",
            "value": 435797
          }
        },
        "6602f64846da4a33bba206abeb91cf45": {
          "model_module": "@jupyter-widgets/controls",
          "model_name": "HTMLModel",
          "model_module_version": "1.5.0",
          "state": {
            "_dom_classes": [],
            "_model_module": "@jupyter-widgets/controls",
            "_model_module_version": "1.5.0",
            "_model_name": "HTMLModel",
            "_view_count": null,
            "_view_module": "@jupyter-widgets/controls",
            "_view_module_version": "1.5.0",
            "_view_name": "HTMLView",
            "description": "",
            "description_tooltip": null,
            "layout": "IPY_MODEL_0f771d891455487fbe28e14962a692eb",
            "placeholder": "​",
            "style": "IPY_MODEL_3a303a2667cb40ad8864360e572b44bf",
            "value": " 436k/436k [00:00&lt;00:00, 23.3MB/s]"
          }
        },
        "3b578b3fe81a4763a7d5680166b3cf61": {
          "model_module": "@jupyter-widgets/base",
          "model_name": "LayoutModel",
          "model_module_version": "1.2.0",
          "state": {
            "_model_module": "@jupyter-widgets/base",
            "_model_module_version": "1.2.0",
            "_model_name": "LayoutModel",
            "_view_count": null,
            "_view_module": "@jupyter-widgets/base",
            "_view_module_version": "1.2.0",
            "_view_name": "LayoutView",
            "align_content": null,
            "align_items": null,
            "align_self": null,
            "border": null,
            "bottom": null,
            "display": null,
            "flex": null,
            "flex_flow": null,
            "grid_area": null,
            "grid_auto_columns": null,
            "grid_auto_flow": null,
            "grid_auto_rows": null,
            "grid_column": null,
            "grid_gap": null,
            "grid_row": null,
            "grid_template_areas": null,
            "grid_template_columns": null,
            "grid_template_rows": null,
            "height": null,
            "justify_content": null,
            "justify_items": null,
            "left": null,
            "margin": null,
            "max_height": null,
            "max_width": null,
            "min_height": null,
            "min_width": null,
            "object_fit": null,
            "object_position": null,
            "order": null,
            "overflow": null,
            "overflow_x": null,
            "overflow_y": null,
            "padding": null,
            "right": null,
            "top": null,
            "visibility": null,
            "width": null
          }
        },
        "4f390062736a412b9e1405777aef5f88": {
          "model_module": "@jupyter-widgets/base",
          "model_name": "LayoutModel",
          "model_module_version": "1.2.0",
          "state": {
            "_model_module": "@jupyter-widgets/base",
            "_model_module_version": "1.2.0",
            "_model_name": "LayoutModel",
            "_view_count": null,
            "_view_module": "@jupyter-widgets/base",
            "_view_module_version": "1.2.0",
            "_view_name": "LayoutView",
            "align_content": null,
            "align_items": null,
            "align_self": null,
            "border": null,
            "bottom": null,
            "display": null,
            "flex": null,
            "flex_flow": null,
            "grid_area": null,
            "grid_auto_columns": null,
            "grid_auto_flow": null,
            "grid_auto_rows": null,
            "grid_column": null,
            "grid_gap": null,
            "grid_row": null,
            "grid_template_areas": null,
            "grid_template_columns": null,
            "grid_template_rows": null,
            "height": null,
            "justify_content": null,
            "justify_items": null,
            "left": null,
            "margin": null,
            "max_height": null,
            "max_width": null,
            "min_height": null,
            "min_width": null,
            "object_fit": null,
            "object_position": null,
            "order": null,
            "overflow": null,
            "overflow_x": null,
            "overflow_y": null,
            "padding": null,
            "right": null,
            "top": null,
            "visibility": null,
            "width": null
          }
        },
        "28b921efa9aa4a2bb1ef53b907a40383": {
          "model_module": "@jupyter-widgets/controls",
          "model_name": "DescriptionStyleModel",
          "model_module_version": "1.5.0",
          "state": {
            "_model_module": "@jupyter-widgets/controls",
            "_model_module_version": "1.5.0",
            "_model_name": "DescriptionStyleModel",
            "_view_count": null,
            "_view_module": "@jupyter-widgets/base",
            "_view_module_version": "1.2.0",
            "_view_name": "StyleView",
            "description_width": ""
          }
        },
        "03b79e588be04f4a826b0ebf7a1922c3": {
          "model_module": "@jupyter-widgets/base",
          "model_name": "LayoutModel",
          "model_module_version": "1.2.0",
          "state": {
            "_model_module": "@jupyter-widgets/base",
            "_model_module_version": "1.2.0",
            "_model_name": "LayoutModel",
            "_view_count": null,
            "_view_module": "@jupyter-widgets/base",
            "_view_module_version": "1.2.0",
            "_view_name": "LayoutView",
            "align_content": null,
            "align_items": null,
            "align_self": null,
            "border": null,
            "bottom": null,
            "display": null,
            "flex": null,
            "flex_flow": null,
            "grid_area": null,
            "grid_auto_columns": null,
            "grid_auto_flow": null,
            "grid_auto_rows": null,
            "grid_column": null,
            "grid_gap": null,
            "grid_row": null,
            "grid_template_areas": null,
            "grid_template_columns": null,
            "grid_template_rows": null,
            "height": null,
            "justify_content": null,
            "justify_items": null,
            "left": null,
            "margin": null,
            "max_height": null,
            "max_width": null,
            "min_height": null,
            "min_width": null,
            "object_fit": null,
            "object_position": null,
            "order": null,
            "overflow": null,
            "overflow_x": null,
            "overflow_y": null,
            "padding": null,
            "right": null,
            "top": null,
            "visibility": null,
            "width": null
          }
        },
        "f487f1ab53c24663a98109e52d63ce3d": {
          "model_module": "@jupyter-widgets/controls",
          "model_name": "ProgressStyleModel",
          "model_module_version": "1.5.0",
          "state": {
            "_model_module": "@jupyter-widgets/controls",
            "_model_module_version": "1.5.0",
            "_model_name": "ProgressStyleModel",
            "_view_count": null,
            "_view_module": "@jupyter-widgets/base",
            "_view_module_version": "1.2.0",
            "_view_name": "StyleView",
            "bar_color": null,
            "description_width": ""
          }
        },
        "0f771d891455487fbe28e14962a692eb": {
          "model_module": "@jupyter-widgets/base",
          "model_name": "LayoutModel",
          "model_module_version": "1.2.0",
          "state": {
            "_model_module": "@jupyter-widgets/base",
            "_model_module_version": "1.2.0",
            "_model_name": "LayoutModel",
            "_view_count": null,
            "_view_module": "@jupyter-widgets/base",
            "_view_module_version": "1.2.0",
            "_view_name": "LayoutView",
            "align_content": null,
            "align_items": null,
            "align_self": null,
            "border": null,
            "bottom": null,
            "display": null,
            "flex": null,
            "flex_flow": null,
            "grid_area": null,
            "grid_auto_columns": null,
            "grid_auto_flow": null,
            "grid_auto_rows": null,
            "grid_column": null,
            "grid_gap": null,
            "grid_row": null,
            "grid_template_areas": null,
            "grid_template_columns": null,
            "grid_template_rows": null,
            "height": null,
            "justify_content": null,
            "justify_items": null,
            "left": null,
            "margin": null,
            "max_height": null,
            "max_width": null,
            "min_height": null,
            "min_width": null,
            "object_fit": null,
            "object_position": null,
            "order": null,
            "overflow": null,
            "overflow_x": null,
            "overflow_y": null,
            "padding": null,
            "right": null,
            "top": null,
            "visibility": null,
            "width": null
          }
        },
        "3a303a2667cb40ad8864360e572b44bf": {
          "model_module": "@jupyter-widgets/controls",
          "model_name": "DescriptionStyleModel",
          "model_module_version": "1.5.0",
          "state": {
            "_model_module": "@jupyter-widgets/controls",
            "_model_module_version": "1.5.0",
            "_model_name": "DescriptionStyleModel",
            "_view_count": null,
            "_view_module": "@jupyter-widgets/base",
            "_view_module_version": "1.2.0",
            "_view_name": "StyleView",
            "description_width": ""
          }
        },
        "5dc724c598804645a64763450f311a35": {
          "model_module": "@jupyter-widgets/controls",
          "model_name": "HBoxModel",
          "model_module_version": "1.5.0",
          "state": {
            "_dom_classes": [],
            "_model_module": "@jupyter-widgets/controls",
            "_model_module_version": "1.5.0",
            "_model_name": "HBoxModel",
            "_view_count": null,
            "_view_module": "@jupyter-widgets/controls",
            "_view_module_version": "1.5.0",
            "_view_name": "HBoxView",
            "box_style": "",
            "children": [
              "IPY_MODEL_bfe50dfffd2b49419f10a8cd6ee283a8",
              "IPY_MODEL_b789fbc3c45a4c5592b3a882c86299f9",
              "IPY_MODEL_cd3a629540954a758a33272c60ac5955"
            ],
            "layout": "IPY_MODEL_3e174fafd1a44d3392eeefeb6df5516f"
          }
        },
        "bfe50dfffd2b49419f10a8cd6ee283a8": {
          "model_module": "@jupyter-widgets/controls",
          "model_name": "HTMLModel",
          "model_module_version": "1.5.0",
          "state": {
            "_dom_classes": [],
            "_model_module": "@jupyter-widgets/controls",
            "_model_module_version": "1.5.0",
            "_model_name": "HTMLModel",
            "_view_count": null,
            "_view_module": "@jupyter-widgets/controls",
            "_view_module_version": "1.5.0",
            "_view_name": "HTMLView",
            "description": "",
            "description_tooltip": null,
            "layout": "IPY_MODEL_d9c4f7072b6a41369abd2e439746d0f6",
            "placeholder": "​",
            "style": "IPY_MODEL_65e8682e295b491a8b733a36979df8bc",
            "value": "config.json: 100%"
          }
        },
        "b789fbc3c45a4c5592b3a882c86299f9": {
          "model_module": "@jupyter-widgets/controls",
          "model_name": "FloatProgressModel",
          "model_module_version": "1.5.0",
          "state": {
            "_dom_classes": [],
            "_model_module": "@jupyter-widgets/controls",
            "_model_module_version": "1.5.0",
            "_model_name": "FloatProgressModel",
            "_view_count": null,
            "_view_module": "@jupyter-widgets/controls",
            "_view_module_version": "1.5.0",
            "_view_name": "ProgressView",
            "bar_style": "success",
            "description": "",
            "description_tooltip": null,
            "layout": "IPY_MODEL_5a193b45a406483b9a481c53216b70bf",
            "max": 570,
            "min": 0,
            "orientation": "horizontal",
            "style": "IPY_MODEL_cad0931542754e8b89f8b338b79bfbc1",
            "value": 570
          }
        },
        "cd3a629540954a758a33272c60ac5955": {
          "model_module": "@jupyter-widgets/controls",
          "model_name": "HTMLModel",
          "model_module_version": "1.5.0",
          "state": {
            "_dom_classes": [],
            "_model_module": "@jupyter-widgets/controls",
            "_model_module_version": "1.5.0",
            "_model_name": "HTMLModel",
            "_view_count": null,
            "_view_module": "@jupyter-widgets/controls",
            "_view_module_version": "1.5.0",
            "_view_name": "HTMLView",
            "description": "",
            "description_tooltip": null,
            "layout": "IPY_MODEL_56872e7da7d4405a8bcb7c40d7645791",
            "placeholder": "​",
            "style": "IPY_MODEL_42e37ac568514fa4925da92303946dfd",
            "value": " 570/570 [00:00&lt;00:00, 30.7kB/s]"
          }
        },
        "3e174fafd1a44d3392eeefeb6df5516f": {
          "model_module": "@jupyter-widgets/base",
          "model_name": "LayoutModel",
          "model_module_version": "1.2.0",
          "state": {
            "_model_module": "@jupyter-widgets/base",
            "_model_module_version": "1.2.0",
            "_model_name": "LayoutModel",
            "_view_count": null,
            "_view_module": "@jupyter-widgets/base",
            "_view_module_version": "1.2.0",
            "_view_name": "LayoutView",
            "align_content": null,
            "align_items": null,
            "align_self": null,
            "border": null,
            "bottom": null,
            "display": null,
            "flex": null,
            "flex_flow": null,
            "grid_area": null,
            "grid_auto_columns": null,
            "grid_auto_flow": null,
            "grid_auto_rows": null,
            "grid_column": null,
            "grid_gap": null,
            "grid_row": null,
            "grid_template_areas": null,
            "grid_template_columns": null,
            "grid_template_rows": null,
            "height": null,
            "justify_content": null,
            "justify_items": null,
            "left": null,
            "margin": null,
            "max_height": null,
            "max_width": null,
            "min_height": null,
            "min_width": null,
            "object_fit": null,
            "object_position": null,
            "order": null,
            "overflow": null,
            "overflow_x": null,
            "overflow_y": null,
            "padding": null,
            "right": null,
            "top": null,
            "visibility": null,
            "width": null
          }
        },
        "d9c4f7072b6a41369abd2e439746d0f6": {
          "model_module": "@jupyter-widgets/base",
          "model_name": "LayoutModel",
          "model_module_version": "1.2.0",
          "state": {
            "_model_module": "@jupyter-widgets/base",
            "_model_module_version": "1.2.0",
            "_model_name": "LayoutModel",
            "_view_count": null,
            "_view_module": "@jupyter-widgets/base",
            "_view_module_version": "1.2.0",
            "_view_name": "LayoutView",
            "align_content": null,
            "align_items": null,
            "align_self": null,
            "border": null,
            "bottom": null,
            "display": null,
            "flex": null,
            "flex_flow": null,
            "grid_area": null,
            "grid_auto_columns": null,
            "grid_auto_flow": null,
            "grid_auto_rows": null,
            "grid_column": null,
            "grid_gap": null,
            "grid_row": null,
            "grid_template_areas": null,
            "grid_template_columns": null,
            "grid_template_rows": null,
            "height": null,
            "justify_content": null,
            "justify_items": null,
            "left": null,
            "margin": null,
            "max_height": null,
            "max_width": null,
            "min_height": null,
            "min_width": null,
            "object_fit": null,
            "object_position": null,
            "order": null,
            "overflow": null,
            "overflow_x": null,
            "overflow_y": null,
            "padding": null,
            "right": null,
            "top": null,
            "visibility": null,
            "width": null
          }
        },
        "65e8682e295b491a8b733a36979df8bc": {
          "model_module": "@jupyter-widgets/controls",
          "model_name": "DescriptionStyleModel",
          "model_module_version": "1.5.0",
          "state": {
            "_model_module": "@jupyter-widgets/controls",
            "_model_module_version": "1.5.0",
            "_model_name": "DescriptionStyleModel",
            "_view_count": null,
            "_view_module": "@jupyter-widgets/base",
            "_view_module_version": "1.2.0",
            "_view_name": "StyleView",
            "description_width": ""
          }
        },
        "5a193b45a406483b9a481c53216b70bf": {
          "model_module": "@jupyter-widgets/base",
          "model_name": "LayoutModel",
          "model_module_version": "1.2.0",
          "state": {
            "_model_module": "@jupyter-widgets/base",
            "_model_module_version": "1.2.0",
            "_model_name": "LayoutModel",
            "_view_count": null,
            "_view_module": "@jupyter-widgets/base",
            "_view_module_version": "1.2.0",
            "_view_name": "LayoutView",
            "align_content": null,
            "align_items": null,
            "align_self": null,
            "border": null,
            "bottom": null,
            "display": null,
            "flex": null,
            "flex_flow": null,
            "grid_area": null,
            "grid_auto_columns": null,
            "grid_auto_flow": null,
            "grid_auto_rows": null,
            "grid_column": null,
            "grid_gap": null,
            "grid_row": null,
            "grid_template_areas": null,
            "grid_template_columns": null,
            "grid_template_rows": null,
            "height": null,
            "justify_content": null,
            "justify_items": null,
            "left": null,
            "margin": null,
            "max_height": null,
            "max_width": null,
            "min_height": null,
            "min_width": null,
            "object_fit": null,
            "object_position": null,
            "order": null,
            "overflow": null,
            "overflow_x": null,
            "overflow_y": null,
            "padding": null,
            "right": null,
            "top": null,
            "visibility": null,
            "width": null
          }
        },
        "cad0931542754e8b89f8b338b79bfbc1": {
          "model_module": "@jupyter-widgets/controls",
          "model_name": "ProgressStyleModel",
          "model_module_version": "1.5.0",
          "state": {
            "_model_module": "@jupyter-widgets/controls",
            "_model_module_version": "1.5.0",
            "_model_name": "ProgressStyleModel",
            "_view_count": null,
            "_view_module": "@jupyter-widgets/base",
            "_view_module_version": "1.2.0",
            "_view_name": "StyleView",
            "bar_color": null,
            "description_width": ""
          }
        },
        "56872e7da7d4405a8bcb7c40d7645791": {
          "model_module": "@jupyter-widgets/base",
          "model_name": "LayoutModel",
          "model_module_version": "1.2.0",
          "state": {
            "_model_module": "@jupyter-widgets/base",
            "_model_module_version": "1.2.0",
            "_model_name": "LayoutModel",
            "_view_count": null,
            "_view_module": "@jupyter-widgets/base",
            "_view_module_version": "1.2.0",
            "_view_name": "LayoutView",
            "align_content": null,
            "align_items": null,
            "align_self": null,
            "border": null,
            "bottom": null,
            "display": null,
            "flex": null,
            "flex_flow": null,
            "grid_area": null,
            "grid_auto_columns": null,
            "grid_auto_flow": null,
            "grid_auto_rows": null,
            "grid_column": null,
            "grid_gap": null,
            "grid_row": null,
            "grid_template_areas": null,
            "grid_template_columns": null,
            "grid_template_rows": null,
            "height": null,
            "justify_content": null,
            "justify_items": null,
            "left": null,
            "margin": null,
            "max_height": null,
            "max_width": null,
            "min_height": null,
            "min_width": null,
            "object_fit": null,
            "object_position": null,
            "order": null,
            "overflow": null,
            "overflow_x": null,
            "overflow_y": null,
            "padding": null,
            "right": null,
            "top": null,
            "visibility": null,
            "width": null
          }
        },
        "42e37ac568514fa4925da92303946dfd": {
          "model_module": "@jupyter-widgets/controls",
          "model_name": "DescriptionStyleModel",
          "model_module_version": "1.5.0",
          "state": {
            "_model_module": "@jupyter-widgets/controls",
            "_model_module_version": "1.5.0",
            "_model_name": "DescriptionStyleModel",
            "_view_count": null,
            "_view_module": "@jupyter-widgets/base",
            "_view_module_version": "1.2.0",
            "_view_name": "StyleView",
            "description_width": ""
          }
        },
        "e3faeeb107d24d4292674532cd91bcbc": {
          "model_module": "@jupyter-widgets/controls",
          "model_name": "HBoxModel",
          "model_module_version": "1.5.0",
          "state": {
            "_dom_classes": [],
            "_model_module": "@jupyter-widgets/controls",
            "_model_module_version": "1.5.0",
            "_model_name": "HBoxModel",
            "_view_count": null,
            "_view_module": "@jupyter-widgets/controls",
            "_view_module_version": "1.5.0",
            "_view_name": "HBoxView",
            "box_style": "",
            "children": [
              "IPY_MODEL_57344f377c3042fdb13f86a069b54bd5",
              "IPY_MODEL_589c4610844a41baa6cc3c3188728593",
              "IPY_MODEL_5d8373b012574efcb39664fec4658bed"
            ],
            "layout": "IPY_MODEL_4c9c3b2309ec4920802a6f44a5416938"
          }
        },
        "57344f377c3042fdb13f86a069b54bd5": {
          "model_module": "@jupyter-widgets/controls",
          "model_name": "HTMLModel",
          "model_module_version": "1.5.0",
          "state": {
            "_dom_classes": [],
            "_model_module": "@jupyter-widgets/controls",
            "_model_module_version": "1.5.0",
            "_model_name": "HTMLModel",
            "_view_count": null,
            "_view_module": "@jupyter-widgets/controls",
            "_view_module_version": "1.5.0",
            "_view_name": "HTMLView",
            "description": "",
            "description_tooltip": null,
            "layout": "IPY_MODEL_3da377a592ab457f9a2601ca64cc331b",
            "placeholder": "​",
            "style": "IPY_MODEL_d157a7f7079e43079a10db20b173a251",
            "value": "model.safetensors: 100%"
          }
        },
        "589c4610844a41baa6cc3c3188728593": {
          "model_module": "@jupyter-widgets/controls",
          "model_name": "FloatProgressModel",
          "model_module_version": "1.5.0",
          "state": {
            "_dom_classes": [],
            "_model_module": "@jupyter-widgets/controls",
            "_model_module_version": "1.5.0",
            "_model_name": "FloatProgressModel",
            "_view_count": null,
            "_view_module": "@jupyter-widgets/controls",
            "_view_module_version": "1.5.0",
            "_view_name": "ProgressView",
            "bar_style": "success",
            "description": "",
            "description_tooltip": null,
            "layout": "IPY_MODEL_9d27b1d3ba37446aa05d05bc7fcd250d",
            "max": 435755784,
            "min": 0,
            "orientation": "horizontal",
            "style": "IPY_MODEL_35145b8ae75f4a258709f4c450b63dc3",
            "value": 435755784
          }
        },
        "5d8373b012574efcb39664fec4658bed": {
          "model_module": "@jupyter-widgets/controls",
          "model_name": "HTMLModel",
          "model_module_version": "1.5.0",
          "state": {
            "_dom_classes": [],
            "_model_module": "@jupyter-widgets/controls",
            "_model_module_version": "1.5.0",
            "_model_name": "HTMLModel",
            "_view_count": null,
            "_view_module": "@jupyter-widgets/controls",
            "_view_module_version": "1.5.0",
            "_view_name": "HTMLView",
            "description": "",
            "description_tooltip": null,
            "layout": "IPY_MODEL_30604d6f37b84fec91fe31e4285035cf",
            "placeholder": "​",
            "style": "IPY_MODEL_bcf73093d84a4c508a5656fe7e477f43",
            "value": " 436M/436M [00:20&lt;00:00, 22.4MB/s]"
          }
        },
        "4c9c3b2309ec4920802a6f44a5416938": {
          "model_module": "@jupyter-widgets/base",
          "model_name": "LayoutModel",
          "model_module_version": "1.2.0",
          "state": {
            "_model_module": "@jupyter-widgets/base",
            "_model_module_version": "1.2.0",
            "_model_name": "LayoutModel",
            "_view_count": null,
            "_view_module": "@jupyter-widgets/base",
            "_view_module_version": "1.2.0",
            "_view_name": "LayoutView",
            "align_content": null,
            "align_items": null,
            "align_self": null,
            "border": null,
            "bottom": null,
            "display": null,
            "flex": null,
            "flex_flow": null,
            "grid_area": null,
            "grid_auto_columns": null,
            "grid_auto_flow": null,
            "grid_auto_rows": null,
            "grid_column": null,
            "grid_gap": null,
            "grid_row": null,
            "grid_template_areas": null,
            "grid_template_columns": null,
            "grid_template_rows": null,
            "height": null,
            "justify_content": null,
            "justify_items": null,
            "left": null,
            "margin": null,
            "max_height": null,
            "max_width": null,
            "min_height": null,
            "min_width": null,
            "object_fit": null,
            "object_position": null,
            "order": null,
            "overflow": null,
            "overflow_x": null,
            "overflow_y": null,
            "padding": null,
            "right": null,
            "top": null,
            "visibility": null,
            "width": null
          }
        },
        "3da377a592ab457f9a2601ca64cc331b": {
          "model_module": "@jupyter-widgets/base",
          "model_name": "LayoutModel",
          "model_module_version": "1.2.0",
          "state": {
            "_model_module": "@jupyter-widgets/base",
            "_model_module_version": "1.2.0",
            "_model_name": "LayoutModel",
            "_view_count": null,
            "_view_module": "@jupyter-widgets/base",
            "_view_module_version": "1.2.0",
            "_view_name": "LayoutView",
            "align_content": null,
            "align_items": null,
            "align_self": null,
            "border": null,
            "bottom": null,
            "display": null,
            "flex": null,
            "flex_flow": null,
            "grid_area": null,
            "grid_auto_columns": null,
            "grid_auto_flow": null,
            "grid_auto_rows": null,
            "grid_column": null,
            "grid_gap": null,
            "grid_row": null,
            "grid_template_areas": null,
            "grid_template_columns": null,
            "grid_template_rows": null,
            "height": null,
            "justify_content": null,
            "justify_items": null,
            "left": null,
            "margin": null,
            "max_height": null,
            "max_width": null,
            "min_height": null,
            "min_width": null,
            "object_fit": null,
            "object_position": null,
            "order": null,
            "overflow": null,
            "overflow_x": null,
            "overflow_y": null,
            "padding": null,
            "right": null,
            "top": null,
            "visibility": null,
            "width": null
          }
        },
        "d157a7f7079e43079a10db20b173a251": {
          "model_module": "@jupyter-widgets/controls",
          "model_name": "DescriptionStyleModel",
          "model_module_version": "1.5.0",
          "state": {
            "_model_module": "@jupyter-widgets/controls",
            "_model_module_version": "1.5.0",
            "_model_name": "DescriptionStyleModel",
            "_view_count": null,
            "_view_module": "@jupyter-widgets/base",
            "_view_module_version": "1.2.0",
            "_view_name": "StyleView",
            "description_width": ""
          }
        },
        "9d27b1d3ba37446aa05d05bc7fcd250d": {
          "model_module": "@jupyter-widgets/base",
          "model_name": "LayoutModel",
          "model_module_version": "1.2.0",
          "state": {
            "_model_module": "@jupyter-widgets/base",
            "_model_module_version": "1.2.0",
            "_model_name": "LayoutModel",
            "_view_count": null,
            "_view_module": "@jupyter-widgets/base",
            "_view_module_version": "1.2.0",
            "_view_name": "LayoutView",
            "align_content": null,
            "align_items": null,
            "align_self": null,
            "border": null,
            "bottom": null,
            "display": null,
            "flex": null,
            "flex_flow": null,
            "grid_area": null,
            "grid_auto_columns": null,
            "grid_auto_flow": null,
            "grid_auto_rows": null,
            "grid_column": null,
            "grid_gap": null,
            "grid_row": null,
            "grid_template_areas": null,
            "grid_template_columns": null,
            "grid_template_rows": null,
            "height": null,
            "justify_content": null,
            "justify_items": null,
            "left": null,
            "margin": null,
            "max_height": null,
            "max_width": null,
            "min_height": null,
            "min_width": null,
            "object_fit": null,
            "object_position": null,
            "order": null,
            "overflow": null,
            "overflow_x": null,
            "overflow_y": null,
            "padding": null,
            "right": null,
            "top": null,
            "visibility": null,
            "width": null
          }
        },
        "35145b8ae75f4a258709f4c450b63dc3": {
          "model_module": "@jupyter-widgets/controls",
          "model_name": "ProgressStyleModel",
          "model_module_version": "1.5.0",
          "state": {
            "_model_module": "@jupyter-widgets/controls",
            "_model_module_version": "1.5.0",
            "_model_name": "ProgressStyleModel",
            "_view_count": null,
            "_view_module": "@jupyter-widgets/base",
            "_view_module_version": "1.2.0",
            "_view_name": "StyleView",
            "bar_color": null,
            "description_width": ""
          }
        },
        "30604d6f37b84fec91fe31e4285035cf": {
          "model_module": "@jupyter-widgets/base",
          "model_name": "LayoutModel",
          "model_module_version": "1.2.0",
          "state": {
            "_model_module": "@jupyter-widgets/base",
            "_model_module_version": "1.2.0",
            "_model_name": "LayoutModel",
            "_view_count": null,
            "_view_module": "@jupyter-widgets/base",
            "_view_module_version": "1.2.0",
            "_view_name": "LayoutView",
            "align_content": null,
            "align_items": null,
            "align_self": null,
            "border": null,
            "bottom": null,
            "display": null,
            "flex": null,
            "flex_flow": null,
            "grid_area": null,
            "grid_auto_columns": null,
            "grid_auto_flow": null,
            "grid_auto_rows": null,
            "grid_column": null,
            "grid_gap": null,
            "grid_row": null,
            "grid_template_areas": null,
            "grid_template_columns": null,
            "grid_template_rows": null,
            "height": null,
            "justify_content": null,
            "justify_items": null,
            "left": null,
            "margin": null,
            "max_height": null,
            "max_width": null,
            "min_height": null,
            "min_width": null,
            "object_fit": null,
            "object_position": null,
            "order": null,
            "overflow": null,
            "overflow_x": null,
            "overflow_y": null,
            "padding": null,
            "right": null,
            "top": null,
            "visibility": null,
            "width": null
          }
        },
        "bcf73093d84a4c508a5656fe7e477f43": {
          "model_module": "@jupyter-widgets/controls",
          "model_name": "DescriptionStyleModel",
          "model_module_version": "1.5.0",
          "state": {
            "_model_module": "@jupyter-widgets/controls",
            "_model_module_version": "1.5.0",
            "_model_name": "DescriptionStyleModel",
            "_view_count": null,
            "_view_module": "@jupyter-widgets/base",
            "_view_module_version": "1.2.0",
            "_view_name": "StyleView",
            "description_width": ""
          }
        }
      }
    }
  },
  "nbformat": 4,
  "nbformat_minor": 5
}